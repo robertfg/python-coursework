{
 "cells": [
  {
   "cell_type": "markdown",
   "metadata": {},
   "source": [
    "# Lists"
   ]
  },
  {
   "cell_type": "markdown",
   "metadata": {},
   "source": [
    "## Meet Lists"
   ]
  },
  {
   "cell_type": "markdown",
   "metadata": {},
   "source": [
    "### Welcome"
   ]
  },
  {
   "cell_type": "markdown",
   "metadata": {},
   "source": [
    "Lists allow you to group multiple values together in a single together."
   ]
  },
  {
   "cell_type": "markdown",
   "metadata": {},
   "source": [
    "### Creation"
   ]
  },
  {
   "cell_type": "code",
   "execution_count": 1,
   "metadata": {},
   "outputs": [
    {
     "data": {
      "text/plain": [
       "['Python', 'JavaScript', 'Java']"
      ]
     },
     "execution_count": 1,
     "metadata": {},
     "output_type": "execute_result"
    }
   ],
   "source": [
    "[\"Python\", \"JavaScript\", \"Java\"]"
   ]
  },
  {
   "cell_type": "code",
   "execution_count": 2,
   "metadata": {},
   "outputs": [
    {
     "data": {
      "text/plain": [
       "3"
      ]
     },
     "execution_count": 2,
     "metadata": {},
     "output_type": "execute_result"
    }
   ],
   "source": [
    "languages = [\"C#\", \"Ruby\", \"Swift\"]\n",
    "len(languages)"
   ]
  },
  {
   "cell_type": "code",
   "execution_count": 3,
   "metadata": {},
   "outputs": [
    {
     "data": {
      "text/plain": [
       "True"
      ]
     },
     "execution_count": 3,
     "metadata": {},
     "output_type": "execute_result"
    }
   ],
   "source": [
    "bool(languages)"
   ]
  },
  {
   "cell_type": "code",
   "execution_count": 4,
   "metadata": {},
   "outputs": [
    {
     "data": {
      "text/plain": [
       "False"
      ]
     },
     "execution_count": 4,
     "metadata": {},
     "output_type": "execute_result"
    }
   ],
   "source": [
    "bool([ ])"
   ]
  },
  {
   "cell_type": "markdown",
   "metadata": {},
   "source": [
    "Coerce a string literal to a list:"
   ]
  },
  {
   "cell_type": "code",
   "execution_count": 5,
   "metadata": {},
   "outputs": [
    {
     "data": {
      "text/plain": [
       "['C',\n",
       " 'o',\n",
       " 'n',\n",
       " 'g',\n",
       " 'r',\n",
       " 'a',\n",
       " 't',\n",
       " 'u',\n",
       " 'l',\n",
       " 'a',\n",
       " 't',\n",
       " 'i',\n",
       " 'o',\n",
       " 'n',\n",
       " 's',\n",
       " '!']"
      ]
     },
     "execution_count": 5,
     "metadata": {},
     "output_type": "execute_result"
    }
   ],
   "source": [
    "banner = list(\"Congratulations!\")\n",
    "banner"
   ]
  },
  {
   "cell_type": "code",
   "execution_count": 6,
   "metadata": {},
   "outputs": [
    {
     "name": "stdout",
     "output_type": "stream",
     "text": [
      "['C', 'o', 'n', 'g', 'r', 'a', 't', 'u', 'l', 'a', 't', 'i', 'o', 'n', 's', '!']\n"
     ]
    }
   ],
   "source": [
    "print(banner)"
   ]
  },
  {
   "cell_type": "code",
   "execution_count": 7,
   "metadata": {},
   "outputs": [
    {
     "name": "stdout",
     "output_type": "stream",
     "text": [
      "There are 3 attendees currently.\n"
     ]
    }
   ],
   "source": [
    "attendees = [\"Ken\", \"Alena\", \"Treasure\"]\n",
    "print(\"There are\", len(attendees), \"attendees currently.\")"
   ]
  },
  {
   "cell_type": "markdown",
   "metadata": {},
   "source": [
    "Pythonic: like Python?"
   ]
  },
  {
   "cell_type": "markdown",
   "metadata": {},
   "source": [
    "### Addition"
   ]
  },
  {
   "cell_type": "raw",
   "metadata": {},
   "source": [
    "Use append method to add to end of list."
   ]
  },
  {
   "cell_type": "code",
   "execution_count": 8,
   "metadata": {},
   "outputs": [
    {
     "data": {
      "text/plain": [
       "[98.6, 98.4]"
      ]
     },
     "execution_count": 8,
     "metadata": {},
     "output_type": "execute_result"
    }
   ],
   "source": [
    "temperatures = []\n",
    "temperatures.append(98.6)\n",
    "temperatures.append(98.4)\n",
    "temperatures"
   ]
  },
  {
   "cell_type": "code",
   "execution_count": 9,
   "metadata": {},
   "outputs": [],
   "source": [
    "er_temps = [102.2, 103.5, 101.1, 99.9]"
   ]
  },
  {
   "cell_type": "markdown",
   "metadata": {},
   "source": [
    "Add one list to another using the **extend** method."
   ]
  },
  {
   "cell_type": "code",
   "execution_count": 10,
   "metadata": {},
   "outputs": [
    {
     "data": {
      "text/plain": [
       "[98.6, 98.4, 102.2, 103.5, 101.1, 99.9]"
      ]
     },
     "execution_count": 10,
     "metadata": {},
     "output_type": "execute_result"
    }
   ],
   "source": [
    "temperatures.extend(er_temps)\n",
    "temperatures"
   ]
  },
  {
   "cell_type": "markdown",
   "metadata": {},
   "source": [
    "Concatenate to a new string using the \"+\" operator."
   ]
  },
  {
   "cell_type": "code",
   "execution_count": 11,
   "metadata": {},
   "outputs": [
    {
     "data": {
      "text/plain": [
       "['Dr. Scholls', 'Dr. Pepper', 'Doug', 'Susan']"
      ]
     },
     "execution_count": 11,
     "metadata": {},
     "output_type": "execute_result"
    }
   ],
   "source": [
    "primary_care_doctors = [\"Dr. Scholls\", \"Dr. Pepper\"]\n",
    "er_doctors = [\"Doug\", \"Susan\"]\n",
    "all_doctors = primary_care_doctors + er_doctors\n",
    "all_doctors"
   ]
  },
  {
   "cell_type": "markdown",
   "metadata": {},
   "source": [
    "Lists can store any data type."
   ]
  },
  {
   "cell_type": "code",
   "execution_count": 12,
   "metadata": {},
   "outputs": [
    {
     "data": {
      "text/plain": [
       "[98.6, 98.4, 102.2, 103.5, 101.1, 99.9, 99, 'Burning up']"
      ]
     },
     "execution_count": 12,
     "metadata": {},
     "output_type": "execute_result"
    }
   ],
   "source": [
    "temperatures.append(99)\n",
    "temperatures.append(\"Burning up\")\n",
    "temperatures"
   ]
  },
  {
   "cell_type": "code",
   "execution_count": 13,
   "metadata": {},
   "outputs": [
    {
     "name": "stdout",
     "output_type": "stream",
     "text": [
      "Attendees: ['Ken', 'Alena', 'Treasure']\n",
      "Attendees: ['Ken', 'Alena', 'Treasure', 'Ashley', 'James', 'Guil']\n",
      "There are 8 potential attendees.\n"
     ]
    }
   ],
   "source": [
    "print(\"Attendees:\", attendees)\n",
    "attendees.append(\"Ashley\")\n",
    "attendees.extend([\"James\", \"Guil\"])\n",
    "print(\"Attendees:\", attendees)\n",
    "optional_invitees = [\"Ben J.\", \"Dave\"]\n",
    "potential_attendees = attendees + optional_invitees\n",
    "print(\"There are\", len(potential_attendees), \"potential attendees.\")"
   ]
  },
  {
   "cell_type": "code",
   "execution_count": 14,
   "metadata": {},
   "outputs": [
    {
     "data": {
      "text/plain": [
       "['Ken', 'Alena', 'Treasure', 'Ashley', 'James', 'Guil', 'Ben J.', 'Dave']"
      ]
     },
     "execution_count": 14,
     "metadata": {},
     "output_type": "execute_result"
    }
   ],
   "source": [
    "potential_attendees"
   ]
  },
  {
   "cell_type": "markdown",
   "metadata": {},
   "source": [
    "#### Code Challenge"
   ]
  },
  {
   "cell_type": "code",
   "execution_count": 15,
   "metadata": {},
   "outputs": [
    {
     "data": {
      "text/plain": [
       "['John', 'Paul', 'George', 'Ringo']"
      ]
     },
     "execution_count": 15,
     "metadata": {},
     "output_type": "execute_result"
    }
   ],
   "source": [
    "beatles = [\"John\"]\n",
    "others = [\"George\", \"Ringo\"]\n",
    "# Your code here\n",
    "beatles.append(\"Paul\")\n",
    "beatles.extend(others)\n",
    "beatles"
   ]
  },
  {
   "cell_type": "markdown",
   "metadata": {},
   "source": [
    "### Indexing"
   ]
  },
  {
   "cell_type": "markdown",
   "metadata": {},
   "source": [
    "Indexing: refer to specific list element; zero-based."
   ]
  },
  {
   "cell_type": "code",
   "execution_count": 16,
   "metadata": {},
   "outputs": [],
   "source": [
    "books = [\n",
    "    \"Automate the Boring Stuff with Python: Practical Programming for Total Beginners - Al Sweigart\",\n",
    "    \"Python for Data Analysis\",\n",
    "    \"Fluent Python: Clear, Concise, and Effective Programming - Luciano Ramalho\",\n",
    "    \"Python for Kids: A Playful Introduction To Programming - Jason R. Briggs\",\n",
    "    \"Hello Web App: Learn How to Build a Web App - Tracy Osborn\",\n",
    "]"
   ]
  },
  {
   "cell_type": "code",
   "execution_count": 17,
   "metadata": {},
   "outputs": [
    {
     "data": {
      "text/plain": [
       "['Automate the Boring Stuff with Python: Practical Programming for Total Beginners - Al Sweigart',\n",
       " 'Python for Data Analysis',\n",
       " 'Fluent Python: Clear, Concise, and Effective Programming - Luciano Ramalho',\n",
       " 'Python for Kids: A Playful Introduction To Programming - Jason R. Briggs',\n",
       " 'Hello Web App: Learn How to Build a Web App - Tracy Osborn']"
      ]
     },
     "execution_count": 17,
     "metadata": {},
     "output_type": "execute_result"
    }
   ],
   "source": [
    "books"
   ]
  },
  {
   "cell_type": "markdown",
   "metadata": {},
   "source": [
    "Trailing commas are okay, even encouraged."
   ]
  },
  {
   "cell_type": "markdown",
   "metadata": {},
   "source": [
    "Command shell: load a file using the \"-i\" parameter:\n",
    "\n",
    "    python -i <filename>.py"
   ]
  },
  {
   "cell_type": "code",
   "execution_count": 18,
   "metadata": {},
   "outputs": [
    {
     "data": {
      "text/plain": [
       "'Automate the Boring Stuff with Python: Practical Programming for Total Beginners - Al Sweigart'"
      ]
     },
     "execution_count": 18,
     "metadata": {},
     "output_type": "execute_result"
    }
   ],
   "source": [
    "books[0]"
   ]
  },
  {
   "cell_type": "code",
   "execution_count": 19,
   "metadata": {},
   "outputs": [
    {
     "data": {
      "text/plain": [
       "['Automate the Boring Stuff with Python: Practical Programming for Total Beginners - Al Sweigart',\n",
       " 'Python for Data Analysis - Wes McKinney',\n",
       " 'Fluent Python: Clear, Concise, and Effective Programming - Luciano Ramalho',\n",
       " 'Python for Kids: A Playful Introduction To Programming - Jason R. Briggs',\n",
       " 'Hello Web App: Learn How to Build a Web App - Tracy Osborn']"
      ]
     },
     "execution_count": 19,
     "metadata": {},
     "output_type": "execute_result"
    }
   ],
   "source": [
    "books[1] = \"Python for Data Analysis - Wes McKinney\"\n",
    "books"
   ]
  },
  {
   "cell_type": "markdown",
   "metadata": {},
   "source": [
    "The last item in a list always has an index of \"-1\".  You can decrement the index from there."
   ]
  },
  {
   "cell_type": "code",
   "execution_count": 20,
   "metadata": {},
   "outputs": [
    {
     "data": {
      "text/plain": [
       "'Hello Web App: Learn How to Build a Web App - Tracy Osborn'"
      ]
     },
     "execution_count": 20,
     "metadata": {},
     "output_type": "execute_result"
    }
   ],
   "source": [
    "books[-1]"
   ]
  },
  {
   "cell_type": "code",
   "execution_count": 21,
   "metadata": {},
   "outputs": [
    {
     "data": {
      "text/plain": [
       "'Python for Kids: A Playful Introduction To Programming - Jason R. Briggs'"
      ]
     },
     "execution_count": 21,
     "metadata": {},
     "output_type": "execute_result"
    }
   ],
   "source": [
    "books[-2]"
   ]
  },
  {
   "cell_type": "code",
   "execution_count": 22,
   "metadata": {},
   "outputs": [
    {
     "name": "stdout",
     "output_type": "stream",
     "text": [
      "Suggested gift: Automate the Boring Stuff with Python: Practical Programming for Total Beginners - Al Sweigart\n"
     ]
    }
   ],
   "source": [
    "print(\"Suggested gift: {}\".format(books[0]))"
   ]
  },
  {
   "cell_type": "markdown",
   "metadata": {},
   "source": [
    "Insert a record at a specific point in the list using the **insert** method:"
   ]
  },
  {
   "cell_type": "code",
   "execution_count": 23,
   "metadata": {},
   "outputs": [
    {
     "data": {
      "text/plain": [
       "['Learning Python: Powerful Object-Oriented Programming',\n",
       " 'Automate the Boring Stuff with Python: Practical Programming for Total Beginners - Al Sweigart',\n",
       " 'Python for Data Analysis - Wes McKinney',\n",
       " 'Fluent Python: Clear, Concise, and Effective Programming - Luciano Ramalho',\n",
       " 'Python for Kids: A Playful Introduction To Programming - Jason R. Briggs',\n",
       " 'Hello Web App: Learn How to Build a Web App - Tracy Osborn']"
      ]
     },
     "execution_count": 23,
     "metadata": {},
     "output_type": "execute_result"
    }
   ],
   "source": [
    "books.insert(0, \"Learning Python: Powerful Object-Oriented Programming\")\n",
    "books"
   ]
  },
  {
   "cell_type": "code",
   "execution_count": 24,
   "metadata": {},
   "outputs": [
    {
     "data": {
      "text/plain": [
       "['Learning Python: Powerful Object-Oriented Programming - Mark Lutz',\n",
       " 'Automate the Boring Stuff with Python: Practical Programming for Total Beginners - Al Sweigart',\n",
       " 'Python for Data Analysis - Wes McKinney',\n",
       " 'Fluent Python: Clear, Concise, and Effective Programming - Luciano Ramalho',\n",
       " 'Python for Kids: A Playful Introduction To Programming - Jason R. Briggs',\n",
       " 'Hello Web App: Learn How to Build a Web App - Tracy Osborn']"
      ]
     },
     "execution_count": 24,
     "metadata": {},
     "output_type": "execute_result"
    }
   ],
   "source": [
    "books[0] += \" - Mark Lutz\"\n",
    "books"
   ]
  },
  {
   "cell_type": "code",
   "execution_count": 25,
   "metadata": {},
   "outputs": [
    {
     "data": {
      "text/plain": [
       "'B'"
      ]
     },
     "execution_count": 25,
     "metadata": {},
     "output_type": "execute_result"
    }
   ],
   "source": [
    "lyrics = \"Books, check 'em out!\"\n",
    "lyrics[0]"
   ]
  },
  {
   "cell_type": "markdown",
   "metadata": {},
   "source": [
    "#### Quiz\n",
    "* You can access a specific character on a String using an index, but you can't change the String."
   ]
  },
  {
   "cell_type": "markdown",
   "metadata": {},
   "source": [
    "### Deletion"
   ]
  },
  {
   "cell_type": "markdown",
   "metadata": {},
   "source": [
    "Del: removes label from object; deletes name, not object."
   ]
  },
  {
   "cell_type": "markdown",
   "metadata": {},
   "source": [
    "Unicode character for taco:"
   ]
  },
  {
   "cell_type": "code",
   "execution_count": 26,
   "metadata": {},
   "outputs": [
    {
     "data": {
      "text/plain": [
       "'🌮'"
      ]
     },
     "execution_count": 26,
     "metadata": {},
     "output_type": "execute_result"
    }
   ],
   "source": [
    "lunch = \"\\N{TACO}\"\n",
    "lunch"
   ]
  },
  {
   "cell_type": "code",
   "execution_count": 27,
   "metadata": {},
   "outputs": [
    {
     "data": {
      "text/plain": [
       "'🌮'"
      ]
     },
     "execution_count": 27,
     "metadata": {},
     "output_type": "execute_result"
    }
   ],
   "source": [
    "carne_asada = lunch\n",
    "carne_asada"
   ]
  },
  {
   "cell_type": "code",
   "execution_count": 28,
   "metadata": {},
   "outputs": [],
   "source": [
    "del lunch"
   ]
  },
  {
   "cell_type": "code",
   "execution_count": 29,
   "metadata": {},
   "outputs": [
    {
     "data": {
      "text/plain": [
       "'Automate the Boring Stuff with Python: Practical Programming for Total Beginners - Al Sweigart'"
      ]
     },
     "execution_count": 29,
     "metadata": {},
     "output_type": "execute_result"
    }
   ],
   "source": [
    "recommendation = books[0]\n",
    "del(books[0])\n",
    "books[0]"
   ]
  },
  {
   "cell_type": "code",
   "execution_count": 30,
   "metadata": {},
   "outputs": [
    {
     "name": "stdout",
     "output_type": "stream",
     "text": [
      "Learning Python: Powerful Object-Oriented Programming - Mark Lutz\n"
     ]
    }
   ],
   "source": [
    "print(recommendation)"
   ]
  },
  {
   "cell_type": "markdown",
   "metadata": {},
   "source": [
    "Get the last record in the list using the **pop** method (LIFO)."
   ]
  },
  {
   "cell_type": "code",
   "execution_count": 31,
   "metadata": {},
   "outputs": [
    {
     "data": {
      "text/plain": [
       "'Hello Web App: Learn How to Build a Web App - Tracy Osborn'"
      ]
     },
     "execution_count": 31,
     "metadata": {},
     "output_type": "execute_result"
    }
   ],
   "source": [
    "books.pop()"
   ]
  },
  {
   "cell_type": "markdown",
   "metadata": {},
   "source": [
    "You can also use an index:"
   ]
  },
  {
   "cell_type": "code",
   "execution_count": 32,
   "metadata": {},
   "outputs": [
    {
     "data": {
      "text/plain": [
       "['Python for Data Analysis - Wes McKinney',\n",
       " 'Fluent Python: Clear, Concise, and Effective Programming - Luciano Ramalho',\n",
       " 'Python for Kids: A Playful Introduction To Programming - Jason R. Briggs']"
      ]
     },
     "execution_count": 32,
     "metadata": {},
     "output_type": "execute_result"
    }
   ],
   "source": [
    "books.pop(0)\n",
    "books"
   ]
  },
  {
   "cell_type": "markdown",
   "metadata": {},
   "source": [
    "## Using Lists"
   ]
  },
  {
   "cell_type": "markdown",
   "metadata": {},
   "source": [
    "### Iteration"
   ]
  },
  {
   "cell_type": "markdown",
   "metadata": {},
   "source": [
    "Iterate: loop using for-in loop."
   ]
  },
  {
   "cell_type": "code",
   "execution_count": 33,
   "metadata": {},
   "outputs": [
    {
     "name": "stdout",
     "output_type": "stream",
     "text": [
      "Ken\n",
      "Alena\n",
      "Treasure\n",
      "Ashley\n",
      "James\n",
      "Guil\n"
     ]
    }
   ],
   "source": [
    "for attendee in attendees:\n",
    "    print(attendee)"
   ]
  },
  {
   "cell_type": "code",
   "execution_count": 34,
   "metadata": {},
   "outputs": [
    {
     "data": {
      "text/plain": [
       "True"
      ]
     },
     "execution_count": 34,
     "metadata": {},
     "output_type": "execute_result"
    }
   ],
   "source": [
    "'Ashley'in attendees"
   ]
  },
  {
   "cell_type": "code",
   "execution_count": 35,
   "metadata": {},
   "outputs": [
    {
     "name": "stdout",
     "output_type": "stream",
     "text": [
      "Books:\n",
      "* Python for Data Analysis - Wes McKinney\n",
      "* Fluent Python: Clear, Concise, and Effective Programming - Luciano Ramalho\n",
      "* Python for Kids: A Playful Introduction To Programming - Jason R. Briggs\n"
     ]
    }
   ],
   "source": [
    "print(\"Books:\")\n",
    "for book in books:\n",
    "    print(\"*\", book)"
   ]
  },
  {
   "cell_type": "code",
   "execution_count": 36,
   "metadata": {},
   "outputs": [],
   "source": [
    "video_games = [\n",
    "    \"The Legend of Zelda: Breath of the Wild\",\n",
    "    \"Splatoon 2\",\n",
    "    \"Super Mario Odyssey\",\n",
    "]"
   ]
  },
  {
   "cell_type": "markdown",
   "metadata": {},
   "source": [
    "#### Code Challenge"
   ]
  },
  {
   "cell_type": "code",
   "execution_count": 37,
   "metadata": {},
   "outputs": [
    {
     "name": "stdout",
     "output_type": "stream",
     "text": [
      "* Asia\n",
      "* Africa\n",
      "* Antarctica\n",
      "* Australia\n"
     ]
    }
   ],
   "source": [
    "continents = [\n",
    "    'Asia',\n",
    "    'South America',\n",
    "    'North America',\n",
    "    'Africa',\n",
    "    'Europe',\n",
    "    'Antarctica',\n",
    "    'Australia',\n",
    "]\n",
    "\n",
    "# Your code here\n",
    "for continent in continents:\n",
    "    if continent[0] == 'A':\n",
    "        print(\"*\", continent)"
   ]
  },
  {
   "cell_type": "markdown",
   "metadata": {},
   "source": [
    "### Mutability"
   ]
  },
  {
   "cell_type": "markdown",
   "metadata": {},
   "source": [
    "The **copy** method makes a copy of the list."
   ]
  },
  {
   "cell_type": "code",
   "execution_count": 38,
   "metadata": {},
   "outputs": [],
   "source": [
    "def display_wishlist(display_name, wishes):\n",
    "    items = wishes.copy()\n",
    "    print(display_name + \":\")\n",
    "    suggested_gift = items.pop(0)\n",
    "    print(\"=====>\", suggested_gift, \"<=====\")\n",
    "    for item in items:\n",
    "        print(\"*\", item)\n",
    "    print()"
   ]
  },
  {
   "cell_type": "code",
   "execution_count": 39,
   "metadata": {},
   "outputs": [
    {
     "name": "stdout",
     "output_type": "stream",
     "text": [
      "Books:\n",
      "=====> Python for Data Analysis - Wes McKinney <=====\n",
      "* Fluent Python: Clear, Concise, and Effective Programming - Luciano Ramalho\n",
      "* Python for Kids: A Playful Introduction To Programming - Jason R. Briggs\n",
      "\n"
     ]
    }
   ],
   "source": [
    "display_wishlist(\"Books\", books)"
   ]
  },
  {
   "cell_type": "code",
   "execution_count": 40,
   "metadata": {},
   "outputs": [
    {
     "name": "stdout",
     "output_type": "stream",
     "text": [
      "Video Games:\n",
      "=====> The Legend of Zelda: Breath of the Wild <=====\n",
      "* Splatoon 2\n",
      "* Super Mario Odyssey\n",
      "\n"
     ]
    }
   ],
   "source": [
    "display_wishlist(\"Video Games\", video_games)"
   ]
  },
  {
   "cell_type": "code",
   "execution_count": 41,
   "metadata": {},
   "outputs": [
    {
     "data": {
      "text/plain": [
       "['Python for Data Analysis - Wes McKinney',\n",
       " 'Fluent Python: Clear, Concise, and Effective Programming - Luciano Ramalho',\n",
       " 'Python for Kids: A Playful Introduction To Programming - Jason R. Briggs']"
      ]
     },
     "execution_count": 41,
     "metadata": {},
     "output_type": "execute_result"
    }
   ],
   "source": [
    "books"
   ]
  },
  {
   "cell_type": "code",
   "execution_count": 42,
   "metadata": {},
   "outputs": [
    {
     "data": {
      "text/plain": [
       "['The Legend of Zelda: Breath of the Wild',\n",
       " 'Splatoon 2',\n",
       " 'Super Mario Odyssey']"
      ]
     },
     "execution_count": 42,
     "metadata": {},
     "output_type": "execute_result"
    }
   ],
   "source": [
    "video_games"
   ]
  },
  {
   "cell_type": "markdown",
   "metadata": {},
   "source": [
    "Use the **remove** method to remove an element:"
   ]
  },
  {
   "cell_type": "code",
   "execution_count": 43,
   "metadata": {},
   "outputs": [
    {
     "data": {
      "text/plain": [
       "['shield', 'sword', 'bow', 'boomerang']"
      ]
     },
     "execution_count": 43,
     "metadata": {},
     "output_type": "execute_result"
    }
   ],
   "source": [
    "inventory = [\"shield\", \"apple\", \"sword\", \"bow\", \"boomerang\"]\n",
    "inventory.remove(\"apple\")\n",
    "inventory"
   ]
  },
  {
   "cell_type": "code",
   "execution_count": 44,
   "metadata": {},
   "outputs": [
    {
     "data": {
      "text/plain": [
       "[]"
      ]
     },
     "execution_count": 44,
     "metadata": {},
     "output_type": "execute_result"
    }
   ],
   "source": [
    "for item in inventory.copy():\n",
    "    inventory.remove(item)\n",
    "inventory"
   ]
  },
  {
   "cell_type": "markdown",
   "metadata": {},
   "source": [
    "#### Quiz\n",
    "* Modifying a list while looping through it is discouraged as it will produce unexpected results.  Loop through a copy of the list."
   ]
  },
  {
   "cell_type": "markdown",
   "metadata": {},
   "source": [
    "### Split and Join"
   ]
  },
  {
   "cell_type": "markdown",
   "metadata": {},
   "source": [
    "Useful methods:\n",
    "* join: join elements into a single string.\n",
    "* split: turn a string into a list; splits on white space (default)"
   ]
  },
  {
   "cell_type": "code",
   "execution_count": 45,
   "metadata": {},
   "outputs": [
    {
     "data": {
      "text/plain": [
       "['The', 'greatest', 'teacher', 'failure', 'is']"
      ]
     },
     "execution_count": 45,
     "metadata": {},
     "output_type": "execute_result"
    }
   ],
   "source": [
    "yoda_quote = \"The greatest teacher failure is\"\n",
    "words = yoda_quote.split()\n",
    "words"
   ]
  },
  {
   "cell_type": "markdown",
   "metadata": {},
   "source": [
    "Import the **time functions**."
   ]
  },
  {
   "cell_type": "code",
   "execution_count": 46,
   "metadata": {},
   "outputs": [],
   "source": [
    "import time"
   ]
  },
  {
   "cell_type": "code",
   "execution_count": 47,
   "metadata": {},
   "outputs": [
    {
     "name": "stdout",
     "output_type": "stream",
     "text": [
      "The\n",
      "greatest\n",
      "teacher\n",
      "failure\n",
      "is\n"
     ]
    }
   ],
   "source": [
    "for word in words:\n",
    "    print(word)\n",
    "    time.sleep(.5)"
   ]
  },
  {
   "cell_type": "markdown",
   "metadata": {},
   "source": [
    "Common separator (\", \"):"
   ]
  },
  {
   "cell_type": "code",
   "execution_count": 48,
   "metadata": {},
   "outputs": [
    {
     "name": "stdout",
     "output_type": "stream",
     "text": [
      "To: Ken, Alena, Treasure, Ashley, James, Guil\n",
      "cc: Ben J., Dave\n"
     ]
    }
   ],
   "source": [
    "to_line = \", \".join(attendees)\n",
    "cc_line = \", \".join(optional_invitees)\n",
    "print(\"To:\", to_line)\n",
    "print(\"cc:\", cc_line)"
   ]
  },
  {
   "cell_type": "code",
   "execution_count": 49,
   "metadata": {},
   "outputs": [
    {
     "data": {
      "text/plain": [
       "'Ken, Alena, Treasure, Ashley, James, Guil'"
      ]
     },
     "execution_count": 49,
     "metadata": {},
     "output_type": "execute_result"
    }
   ],
   "source": [
    "to_line"
   ]
  },
  {
   "cell_type": "markdown",
   "metadata": {},
   "source": [
    "Split on \", \" (comma, space)"
   ]
  },
  {
   "cell_type": "code",
   "execution_count": 50,
   "metadata": {},
   "outputs": [
    {
     "data": {
      "text/plain": [
       "['Ken', 'Alena', 'Treasure', 'Ashley', 'James', 'Guil']"
      ]
     },
     "execution_count": 50,
     "metadata": {},
     "output_type": "execute_result"
    }
   ],
   "source": [
    "to_line.split(\", \")"
   ]
  },
  {
   "cell_type": "markdown",
   "metadata": {},
   "source": [
    "#### Quiz\n",
    "* join: turn a list into a string by combining each value together with a specified separator; join any iterable together.  **It's on strings.**"
   ]
  },
  {
   "cell_type": "markdown",
   "metadata": {},
   "source": [
    "### Multidimensional Lists"
   ]
  },
  {
   "cell_type": "markdown",
   "metadata": {},
   "source": [
    "Rows and columns"
   ]
  },
  {
   "cell_type": "code",
   "execution_count": 51,
   "metadata": {},
   "outputs": [],
   "source": [
    "travel_expenses = [\n",
    "    [5.00, 2.75, 22.00, 0.00, 0.00],\n",
    "    [24.75, 5.50, 15.00, 22.00, 8.00],\n",
    "    [2.75, 5.50, 0.00, 29.00, 5.00],\n",
    "]"
   ]
  },
  {
   "cell_type": "code",
   "execution_count": 52,
   "metadata": {},
   "outputs": [
    {
     "data": {
      "text/plain": [
       "3"
      ]
     },
     "execution_count": 52,
     "metadata": {},
     "output_type": "execute_result"
    }
   ],
   "source": [
    "len(travel_expenses)"
   ]
  },
  {
   "cell_type": "code",
   "execution_count": 53,
   "metadata": {},
   "outputs": [
    {
     "data": {
      "text/plain": [
       "[5.0, 2.75, 22.0, 0.0, 0.0]"
      ]
     },
     "execution_count": 53,
     "metadata": {},
     "output_type": "execute_result"
    }
   ],
   "source": [
    "travel_expenses[0]"
   ]
  },
  {
   "cell_type": "code",
   "execution_count": 54,
   "metadata": {},
   "outputs": [
    {
     "data": {
      "text/plain": [
       "2.75"
      ]
     },
     "execution_count": 54,
     "metadata": {},
     "output_type": "execute_result"
    }
   ],
   "source": [
    "travel_expenses[0][1]"
   ]
  },
  {
   "cell_type": "code",
   "execution_count": 55,
   "metadata": {},
   "outputs": [
    {
     "name": "stdout",
     "output_type": "stream",
     "text": [
      "Travel Expenses:\n",
      "* Week No. 1: $29.75\n",
      "* Week No. 2: $75.25\n",
      "* Week No. 3: $42.25\n"
     ]
    }
   ],
   "source": [
    "print(\"Travel Expenses:\")\n",
    "week_number = 1\n",
    "for week in travel_expenses:\n",
    "    print(\"* Week No. {}: ${}\".format(week_number, sum(week)))\n",
    "    week_number += 1"
   ]
  },
  {
   "cell_type": "markdown",
   "metadata": {},
   "source": [
    "## Build an Application"
   ]
  },
  {
   "cell_type": "markdown",
   "metadata": {},
   "source": [
    "Shopping List"
   ]
  },
  {
   "cell_type": "code",
   "execution_count": 56,
   "metadata": {},
   "outputs": [],
   "source": [
    "shopping_list = []"
   ]
  },
  {
   "cell_type": "code",
   "execution_count": 57,
   "metadata": {},
   "outputs": [],
   "source": [
    "def show_help():\n",
    "    print()\n",
    "    print(\"What should we pick up at the store?\")\n",
    "    print(\"\"\"\n",
    "Enter 'DONE' to stop adding items.\n",
    "Enter 'SHOW' to see the list of items.\n",
    "Enter 'HELP' for this help.\n",
    "\"\"\")"
   ]
  },
  {
   "cell_type": "code",
   "execution_count": 58,
   "metadata": {},
   "outputs": [],
   "source": [
    "def add_to_list(item):\n",
    "    shopping_list.append(item)\n",
    "    \n",
    "    print(\"Added!  List has {} items.\".format(len(shopping_list)))"
   ]
  },
  {
   "cell_type": "code",
   "execution_count": 59,
   "metadata": {},
   "outputs": [],
   "source": [
    "def show_list():\n",
    "    print(\"Shopping list:\")\n",
    "    for item in shopping_list:\n",
    "        print(item)"
   ]
  },
  {
   "cell_type": "code",
   "execution_count": 61,
   "metadata": {},
   "outputs": [
    {
     "name": "stdout",
     "output_type": "stream",
     "text": [
      "\n",
      "What should we pick up at the store?\n",
      "\n",
      "Enter 'DONE' to stop adding items.\n",
      "Enter 'SHOW' to see the list of items.\n",
      "Enter 'HELP' for this help.\n",
      "\n",
      "> DONE\n",
      "Shopping list:\n",
      "grapes\n",
      "bananas\n",
      "apples\n",
      "tomatoes\n"
     ]
    }
   ],
   "source": [
    "show_help()\n",
    "\n",
    "while True:\n",
    "    new_item = input(\"> \")\n",
    "    if new_item == \"DONE\":\n",
    "        break\n",
    "    elif new_item == 'HELP':\n",
    "        show_help()\n",
    "        continue\n",
    "    elif new_item == 'SHOW':\n",
    "        show_list()\n",
    "        continue\n",
    "\n",
    "    add_to_list(new_item)\n",
    "    \n",
    "show_list()"
   ]
  },
  {
   "cell_type": "markdown",
   "metadata": {},
   "source": [
    "#### Code Challenge"
   ]
  },
  {
   "cell_type": "code",
   "execution_count": 63,
   "metadata": {},
   "outputs": [
    {
     "name": "stdout",
     "output_type": "stream",
     "text": [
      "Ad Rock, MCA, Mike D.\n",
      "Salt, Peppa, Spinderella\n",
      "Run, DMC, Jam Master Jay\n"
     ]
    }
   ],
   "source": [
    "musical_groups = [\n",
    "    [\"Ad Rock\", \"MCA\", \"Mike D.\"],\n",
    "    [\"John Lennon\", \"Paul McCartney\", \"Ringo Starr\", \"George Harrison\"],\n",
    "    [\"Salt\", \"Peppa\", \"Spinderella\"],\n",
    "    [\"Rivers Cuomo\", \"Patrick Wilson\", \"Brian Bell\", \"Scott Shriner\"],\n",
    "    [\"Chuck D.\", \"Flavor Flav\", \"Professor Griff\", \"Khari Winn\", \"DJ Lord\"],\n",
    "    [\"Axl Rose\", \"Slash\", \"Duff McKagan\", \"Steven Adler\"],\n",
    "    [\"Run\", \"DMC\", \"Jam Master Jay\"],\n",
    "]\n",
    "\n",
    "# Your code here\n",
    "for musical_group in musical_groups:\n",
    "    if len(musical_group) == 3:\n",
    "        print(\", \".join(musical_group))"
   ]
  }
 ],
 "metadata": {
  "kernelspec": {
   "display_name": "Python 3",
   "language": "python",
   "name": "python3"
  },
  "language_info": {
   "codemirror_mode": {
    "name": "ipython",
    "version": 3
   },
   "file_extension": ".py",
   "mimetype": "text/x-python",
   "name": "python",
   "nbconvert_exporter": "python",
   "pygments_lexer": "ipython3",
   "version": "3.7.3"
  }
 },
 "nbformat": 4,
 "nbformat_minor": 2
}
