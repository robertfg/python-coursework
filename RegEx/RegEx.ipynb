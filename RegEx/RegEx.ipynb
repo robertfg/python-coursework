{
 "cells": [
  {
   "cell_type": "markdown",
   "metadata": {},
   "source": [
    "# Regular Expressions in Python"
   ]
  },
  {
   "cell_type": "markdown",
   "metadata": {},
   "source": [
    "## Introduction"
   ]
  },
  {
   "cell_type": "markdown",
   "metadata": {},
   "source": [
    "### Reading Files"
   ]
  },
  {
   "cell_type": "markdown",
   "metadata": {},
   "source": [
    "RegEx: match patterns against text."
   ]
  },
  {
   "cell_type": "markdown",
   "metadata": {},
   "source": [
    "Problem: sort text file and make nice interface to look at contacts."
   ]
  },
  {
   "cell_type": "markdown",
   "metadata": {},
   "source": [
    "Open files with utf-8 encoding"
   ]
  },
  {
   "cell_type": "code",
   "execution_count": 1,
   "metadata": {},
   "outputs": [
    {
     "data": {
      "text/plain": [
       "<_io.TextIOWrapper name='names.txt' mode='r' encoding='utf-8'>"
      ]
     },
     "execution_count": 1,
     "metadata": {},
     "output_type": "execute_result"
    }
   ],
   "source": [
    "open(\"names.txt\", encoding=\"utf-8\")"
   ]
  },
  {
   "cell_type": "markdown",
   "metadata": {},
   "source": [
    "Open the file and read the data:"
   ]
  },
  {
   "cell_type": "code",
   "execution_count": 2,
   "metadata": {},
   "outputs": [],
   "source": [
    "names_file = open(\"names.txt\", encoding=\"utf-8\")\n",
    "data = names_file.read()"
   ]
  },
  {
   "cell_type": "markdown",
   "metadata": {},
   "source": [
    "If you don't know the size of a file, it's better to read it a chunk at a time and close it automatically. The following snippet does that:"
   ]
  },
  {
   "cell_type": "code",
   "execution_count": 3,
   "metadata": {},
   "outputs": [],
   "source": [
    "with open(\"names.txt\") as open_file:\n",
    "    data2 = open_file.read()"
   ]
  },
  {
   "cell_type": "markdown",
   "metadata": {},
   "source": [
    "Close the file:"
   ]
  },
  {
   "cell_type": "code",
   "execution_count": 4,
   "metadata": {},
   "outputs": [],
   "source": [
    "names_file.close()"
   ]
  },
  {
   "cell_type": "code",
   "execution_count": 5,
   "metadata": {},
   "outputs": [
    {
     "name": "stdout",
     "output_type": "stream",
     "text": [
      "Love, Kenneth\tkenneth@teamtreehouse.com\t(555) 555-5555\tTeacher, Treehouse\t@kennethlove\n",
      "McFarland, Dave\tdave@teamtreehouse.com\t(555) 555-5554\tTeacher, Treehouse\n",
      "Arthur, King\tking_arthur@camelot.co.uk\t\tKing, Camelot\n",
      "Österberg, Sven-Erik\tgovernor@norrbotten.co.se\t\tGovernor, Norrbotten\t@sverik\n",
      ", Tim\ttim@killerrabbit.com\t\tEnchanter, Killer Rabbit Cave\n",
      "Carson, Ryan\tryan@teamtreehouse.com\t(555) 555-5543\tCEO, Treehouse\t@ryancarson\n",
      "Doctor, The\tdoctor+companion@tardis.co.uk\t\tTime Lord, Gallifrey\n",
      "Exampleson, Example\tme@example.com\t555-555-5552\tExample, Example Co.\t@example\n",
      "Trump, Donald\tpresident.44@us.gov\t555 555-5551\tPresident, United States of America\t@potus44\n",
      "Chalkley, Andrew\tandrew@teamtreehouse.com\t(555) 555-5553\tTeacher, Treehouse\t@chalkers\n",
      "Vader, Darth\tdarth-vader@empire.gov\t(555) 555-4444\tSith Lord, Galactic Empire\t@darthvader\n",
      "Fernández de la Vega Sanz, María Teresa\tmtfvs@spain.gov\t\tFirst Deputy Prime Minister, Spanish Govt.\n"
     ]
    }
   ],
   "source": [
    "print(data)"
   ]
  },
  {
   "cell_type": "markdown",
   "metadata": {},
   "source": [
    "Import regex library:"
   ]
  },
  {
   "cell_type": "code",
   "execution_count": 6,
   "metadata": {},
   "outputs": [],
   "source": [
    "import re"
   ]
  },
  {
   "cell_type": "markdown",
   "metadata": {},
   "source": [
    "The \"match\" key word searches from the beginning of the string.  The character 'r' indicates raw data."
   ]
  },
  {
   "cell_type": "code",
   "execution_count": 7,
   "metadata": {},
   "outputs": [
    {
     "name": "stdout",
     "output_type": "stream",
     "text": [
      "<re.Match object; span=(0, 4), match='Love'>\n"
     ]
    }
   ],
   "source": [
    "print(re.match(r'Love', data))"
   ]
  },
  {
   "cell_type": "code",
   "execution_count": 8,
   "metadata": {},
   "outputs": [
    {
     "name": "stdout",
     "output_type": "stream",
     "text": [
      "None\n"
     ]
    }
   ],
   "source": [
    "print(re.match(r'Kenneth', data))"
   ]
  },
  {
   "cell_type": "markdown",
   "metadata": {},
   "source": [
    "The \"search\" key word searches the entire string:"
   ]
  },
  {
   "cell_type": "code",
   "execution_count": 9,
   "metadata": {},
   "outputs": [
    {
     "name": "stdout",
     "output_type": "stream",
     "text": [
      "<re.Match object; span=(6, 13), match='Kenneth'>\n"
     ]
    }
   ],
   "source": [
    "print(re.search(r'Kenneth', data))"
   ]
  },
  {
   "cell_type": "code",
   "execution_count": 10,
   "metadata": {},
   "outputs": [
    {
     "name": "stdout",
     "output_type": "stream",
     "text": [
      "<re.Match object; span=(293, 296), match='Tim'>\n"
     ]
    }
   ],
   "source": [
    "first_name = r'Tim'\n",
    "print(re.search(first_name, data))"
   ]
  },
  {
   "cell_type": "markdown",
   "metadata": {},
   "source": [
    "#### Code Challenge"
   ]
  },
  {
   "cell_type": "code",
   "execution_count": 11,
   "metadata": {},
   "outputs": [],
   "source": [
    "import re\n",
    "\n",
    "file_object = open(\"basics.txt\")\n",
    "data3 = file_object.read()\n",
    "file_object.close()\n",
    "\n",
    "first = re.match(\"Four\", data3)\n",
    "liberty = re.search(\"Liberty\", data3)"
   ]
  },
  {
   "cell_type": "markdown",
   "metadata": {},
   "source": [
    "### Escape Hatches"
   ]
  },
  {
   "cell_type": "markdown",
   "metadata": {},
   "source": [
    "Escape Characters:\n",
    "* \\w: matches a Unicode word character. That's any letter, uppercase or lowercase, numbers, and the underscore character. In \"new-releases-204\", \\w would match each of the letters in \"new\" and \"releases\" and the numbers 2, 0, and 4. It wouldn't match the hyphens.\n",
    "* \\W: is the opposite to \\w and matches anything that isn't a Unicode word character. In \"new-releases-204\", \\W would only match the hyphens.\n",
    "* \\s: matches whitespace, so spaces, tabs, newlines, etc.\n",
    "* \\S: matches everything that isn't whitespace.\n",
    "* \\d: is how we match any number from 0 to 9\n",
    "* \\D: matches anything that isn't a number.\n",
    "* \\b: matches word boundaries. What's a word boundary? It's the edges of word, defined by white space or the edges of the string.\n",
    "* \\B: matches anything that isn't the edges of a word.\n",
    "* \\A (^): matches the beginning of the string.\n",
    "* \\Z ($): matches the end of the string."
   ]
  },
  {
   "cell_type": "code",
   "execution_count": 12,
   "metadata": {},
   "outputs": [
    {
     "name": "stdout",
     "output_type": "stream",
     "text": [
      "None\n"
     ]
    }
   ],
   "source": [
    "print(re.match(r'\\w, \\w', data))"
   ]
  },
  {
   "cell_type": "code",
   "execution_count": 13,
   "metadata": {},
   "outputs": [
    {
     "name": "stdout",
     "output_type": "stream",
     "text": [
      "<re.Match object; span=(46, 54), match='555-5555'>\n"
     ]
    }
   ],
   "source": [
    "print(re.search(r'\\d\\d\\d-\\d\\d\\d\\d', data))"
   ]
  },
  {
   "cell_type": "markdown",
   "metadata": {},
   "source": [
    "The parentheses characters are special characters and must be escaped:"
   ]
  },
  {
   "cell_type": "code",
   "execution_count": 14,
   "metadata": {},
   "outputs": [
    {
     "name": "stdout",
     "output_type": "stream",
     "text": [
      "<re.Match object; span=(40, 54), match='(555) 555-5555'>\n"
     ]
    }
   ],
   "source": [
    "print(re.search(r'\\(\\d\\d\\d\\) \\d\\d\\d-\\d\\d\\d\\d', data))"
   ]
  },
  {
   "cell_type": "markdown",
   "metadata": {},
   "source": [
    "#### Code Challenge"
   ]
  },
  {
   "cell_type": "code",
   "execution_count": 15,
   "metadata": {},
   "outputs": [],
   "source": [
    "import re\n",
    "\n",
    "def first_number(str1):\n",
    "    return re.search(r'\\d', str1)\n",
    "\n",
    "def numbers(count, str2):\n",
    "    return re.search(r'\\d'*count, str2)"
   ]
  },
  {
   "cell_type": "markdown",
   "metadata": {},
   "source": [
    "### Counts"
   ]
  },
  {
   "cell_type": "markdown",
   "metadata": {},
   "source": [
    "Matching:\n",
    "* \\w{3}: matches any three word characters in a row.\n",
    "* \\w{,3}: matches 0, 1, 2, or 3 word characters in a row.\n",
    "* \\w{3,}: matches 3 or more word characters in a row. There's no upper limit.\n",
    "* \\w{3, 5}: matches 3, 4, or 5 word characters in a row.\n",
    "* \\w?: matches 0 or 1 word characters.\n",
    "* \\w*: matches 0 or more word characters. Since there is no upper limit, this is, effectively, infinite word characters.\n",
    "* \\w+:  matches 1 or more word characters. Like *, it has no upper limit, but it has to occur at least once.\n",
    "* .findall(pattern, text, flags): finds all non-overlapping occurrences of the pattern in the text."
   ]
  },
  {
   "cell_type": "code",
   "execution_count": 16,
   "metadata": {},
   "outputs": [
    {
     "name": "stdout",
     "output_type": "stream",
     "text": [
      "<re.Match object; span=(0, 13), match='Love, Kenneth'>\n"
     ]
    }
   ],
   "source": [
    "print(re.match(r'\\w+, \\w+', data))"
   ]
  },
  {
   "cell_type": "code",
   "execution_count": 17,
   "metadata": {},
   "outputs": [
    {
     "name": "stdout",
     "output_type": "stream",
     "text": [
      "<re.Match object; span=(40, 54), match='(555) 555-5555'>\n"
     ]
    }
   ],
   "source": [
    "print(re.search(r'\\(\\d{3}\\) \\d{3}-\\d{4}', data))"
   ]
  },
  {
   "cell_type": "code",
   "execution_count": 18,
   "metadata": {},
   "outputs": [
    {
     "name": "stdout",
     "output_type": "stream",
     "text": [
      "['(555) 555-5555', '(555) 555-5554', '(555) 555-5543', '555 555-5551', '(555) 555-5553', '(555) 555-4444']\n"
     ]
    }
   ],
   "source": [
    "print(re.findall(r'\\(?\\d{3}\\)? \\d{3}-\\d{4}', data))"
   ]
  },
  {
   "cell_type": "code",
   "execution_count": 19,
   "metadata": {},
   "outputs": [
    {
     "name": "stdout",
     "output_type": "stream",
     "text": [
      "['(555) 555-5555', '(555) 555-5554', '(555) 555-5543', '555-555-5552', '555 555-5551', '(555) 555-5553', '(555) 555-4444']\n"
     ]
    }
   ],
   "source": [
    "print(re.findall(r'\\(?\\d{3}\\)?-?\\s?\\d{3}-\\d{4}', data))"
   ]
  },
  {
   "cell_type": "code",
   "execution_count": 20,
   "metadata": {},
   "outputs": [
    {
     "name": "stdout",
     "output_type": "stream",
     "text": [
      "['Love, Kenneth', 'Teacher, Treehouse', 'McFarland, Dave', 'Teacher, Treehouse', 'Arthur, King', 'King, Camelot', 'Österberg, Sven', 'Governor, Norrbotten', 'Enchanter, Killer', 'Carson, Ryan', 'CEO, Treehouse', 'Doctor, The', 'Lord, Gallifrey', 'Exampleson, Example', 'Example, Example', 'Trump, Donald', 'President, United', 'Chalkley, Andrew', 'Teacher, Treehouse', 'Vader, Darth', 'Lord, Galactic', 'Sanz, María', 'Minister, Spanish']\n"
     ]
    }
   ],
   "source": [
    "print(re.findall(r'\\w+, \\w+', data))"
   ]
  },
  {
   "cell_type": "code",
   "execution_count": 21,
   "metadata": {},
   "outputs": [
    {
     "name": "stdout",
     "output_type": "stream",
     "text": [
      "['Love, Kenneth', 'Teacher, Treehouse', 'McFarland, Dave', 'Teacher, Treehouse', 'Arthur, King', 'King, Camelot', 'Österberg, Sven', 'Governor, Norrbotten', ', Tim', 'Enchanter, Killer', 'Carson, Ryan', 'CEO, Treehouse', 'Doctor, The', 'Lord, Gallifrey', 'Exampleson, Example', 'Example, Example', 'Trump, Donald', 'President, United', 'Chalkley, Andrew', 'Teacher, Treehouse', 'Vader, Darth', 'Lord, Galactic', 'Sanz, María', 'Minister, Spanish']\n"
     ]
    }
   ],
   "source": [
    "print(re.findall(r'\\w*, \\w+', data))"
   ]
  },
  {
   "cell_type": "markdown",
   "metadata": {},
   "source": [
    "#### Code Challenge"
   ]
  },
  {
   "cell_type": "code",
   "execution_count": 22,
   "metadata": {},
   "outputs": [],
   "source": [
    "import re\n",
    "\n",
    "def phone_numbers(str1):\n",
    "    return re.findall(r'\\d{3}-\\d{3}-\\d{4}', str1)"
   ]
  },
  {
   "cell_type": "code",
   "execution_count": 23,
   "metadata": {},
   "outputs": [],
   "source": [
    "import re\n",
    "\n",
    "def find_words(count, str1):\n",
    "    exp = r'\\w{' + str(count) + ',}'\n",
    "    return re.findall(exp, str1)"
   ]
  },
  {
   "cell_type": "code",
   "execution_count": 24,
   "metadata": {},
   "outputs": [
    {
     "data": {
      "text/plain": [
       "['baby', 'balloon']"
      ]
     },
     "execution_count": 24,
     "metadata": {},
     "output_type": "execute_result"
    }
   ],
   "source": [
    "find_words(4, \"dog, cat, baby, balloon, me\")"
   ]
  },
  {
   "cell_type": "code",
   "execution_count": 25,
   "metadata": {},
   "outputs": [
    {
     "data": {
      "text/plain": [
       "['123456', 'Treehouse', 'student', 'Kenneth', 'Python', 'g0tcha']"
      ]
     },
     "execution_count": 25,
     "metadata": {},
     "output_type": "execute_result"
    }
   ],
   "source": [
    "find_words(6, '123456, Treehouse, student, learn, Kenneth, Python, regex, match, Ryan, g0tcha')"
   ]
  },
  {
   "cell_type": "markdown",
   "metadata": {},
   "source": [
    "## Sets"
   ]
  },
  {
   "cell_type": "markdown",
   "metadata": {},
   "source": [
    "Sets let us combine explicit characters and escape patterns into pieces that can be repeated multiple times. They also let us specify pieces that should be left out of any matches.\n",
    "\n",
    "Sets: if I know the exact characters I want to match, or need to make sure a certain character isn't there."
   ]
  },
  {
   "cell_type": "markdown",
   "metadata": {},
   "source": [
    "Matching:\n",
    "* [abc]: a set of the characters 'a', 'b', and 'c'. It'll match any of those characters, in any order, but only once each.\n",
    "* [a-z], [A-Z], or [a-zA-Z]: match any/all letters in the English alphabet in lowercase, uppercase, or both upper and lowercases.\n",
    "* [0-9]: match any number from 0 to 9. You can change the ends to restrict the set."
   ]
  },
  {
   "cell_type": "code",
   "execution_count": 26,
   "metadata": {},
   "outputs": [
    {
     "name": "stdout",
     "output_type": "stream",
     "text": [
      "['kenneth@teamtreehouse.com', 'dave@teamtreehouse.com', 'king_arthur@camelot.co.uk', 'governor@norrbotten.co.se', 'tim@killerrabbit.com', 'ryan@teamtreehouse.com', 'doctor+companion@tardis.co.uk', 'me@example.com', 'president.44@us.gov', 'andrew@teamtreehouse.com', 'darth-vader@empire.gov', 'mtfvs@spain.gov']\n"
     ]
    }
   ],
   "source": [
    "print(re.findall(r'[-\\w\\d+.]+@[-\\w\\d.]+', data))"
   ]
  },
  {
   "cell_type": "markdown",
   "metadata": {},
   "source": [
    "re.IGNORECASE = re.I"
   ]
  },
  {
   "cell_type": "code",
   "execution_count": 27,
   "metadata": {},
   "outputs": [
    {
     "name": "stdout",
     "output_type": "stream",
     "text": [
      "['Treehouse', 'Treehouse', 'se', 'Treehouse', 'The', 'us', 'Treehouse']\n"
     ]
    }
   ],
   "source": [
    "print(re.findall(r'\\b[trehous]+\\b', data, re.IGNORECASE))"
   ]
  },
  {
   "cell_type": "markdown",
   "metadata": {},
   "source": [
    "#### Code Challenge"
   ]
  },
  {
   "cell_type": "code",
   "execution_count": 28,
   "metadata": {},
   "outputs": [],
   "source": [
    "import re\n",
    "\n",
    "def find_emails(str1):\n",
    "    return re.findall(r'[\\w+.]+@[\\w.]+', str1)"
   ]
  },
  {
   "cell_type": "code",
   "execution_count": 29,
   "metadata": {},
   "outputs": [
    {
     "data": {
      "text/plain": [
       "['kenneth.love@teamtreehouse.com',\n",
       " 'ryan@teamtreehouse.com',\n",
       " 'test+case@example.co.uk']"
      ]
     },
     "execution_count": 29,
     "metadata": {},
     "output_type": "execute_result"
    }
   ],
   "source": [
    "find_emails(\"kenneth.love@teamtreehouse.com, @support, ryan@teamtreehouse.com, test+case@example.co.uk\")\n",
    "# ['kenneth@teamtreehouse.com', 'ryan@teamtreehouse.com', 'test@example.co.uk']"
   ]
  },
  {
   "cell_type": "code",
   "execution_count": 30,
   "metadata": {},
   "outputs": [
    {
     "data": {
      "text/plain": [
       "['kenneth@teamtreehouse.com',\n",
       " 'andrew+gotcha@teamtreehouse.com',\n",
       " 'exa.mple@example.co.uk']"
      ]
     },
     "execution_count": 30,
     "metadata": {},
     "output_type": "execute_result"
    }
   ],
   "source": [
    "find_emails('kenneth@teamtreehouse.com, andrew+gotcha@teamtreehouse.com, exa.mple@example.co.uk')"
   ]
  },
  {
   "cell_type": "markdown",
   "metadata": {},
   "source": [
    "### Negation"
   ]
  },
  {
   "cell_type": "markdown",
   "metadata": {},
   "source": [
    "Negated sets let us specify characters and sequences that should be left out of any matches.\n",
    "* [^abc]: a set that will not match, and, in fact, exclude, the letters 'a', 'b', and 'c'.\n",
    "* re.IGNORECASE or re.I: flag to make a search case-insensitive. re.match('A', 'apple', re.I) would find the 'a' in 'apple'.\n",
    "* re.VERBOSE or re.X: flag that allows regular expressions to span multiple lines and contain (ignored) whitespace and comments."
   ]
  },
  {
   "cell_type": "code",
   "execution_count": 31,
   "metadata": {},
   "outputs": [
    {
     "name": "stdout",
     "output_type": "stream",
     "text": [
      "['@teamtreehouse.com', '@teamtreehouse.com', '@camelot.co.uk', '@norrbotten.co.se', '@killerrabbit.com', '@teamtreehouse.com', '@tardis.co.uk', '@example.com', '@us.', '@teamtreehouse.com', '@empire.', '@spain.']\n"
     ]
    }
   ],
   "source": [
    "# Find a word boundary, an @, and any number of characters\n",
    "# Ignore one or more instances of 'g', 'o', or 'v', and a tab\n",
    "# Match another word boundary\n",
    "\n",
    "print(re.findall(r'''\n",
    "    \\b@[-\\w\\d.]*\n",
    "    [^gov\\t]+\n",
    "    \\b\n",
    "    ''', data, re.VERBOSE | re.I))"
   ]
  },
  {
   "cell_type": "markdown",
   "metadata": {},
   "source": [
    "re.VERBOSE (re.X): for multiple lines"
   ]
  },
  {
   "cell_type": "code",
   "execution_count": 32,
   "metadata": {},
   "outputs": [
    {
     "name": "stdout",
     "output_type": "stream",
     "text": [
      "['Love, Kenneth', 'Teacher, Treehouse', 'McFarland, Dave', 'Teacher, Treehouse', 'Arthur, King', 'King, Camelot', 'Österberg, Sven-Erik', 'Governor, Norrbotten', 'Enchanter, Killer Rabbit Cave', 'Carson, Ryan', 'CEO, Treehouse', 'Doctor, The', 'Lord, Gallifrey', 'Exampleson, Example', 'Example, Example Co.', 'Trump, Donald', 'President, United States of America', 'Chalkley, Andrew', 'Teacher, Treehouse', 'Vader, Darth', 'Lord, Galactic Empire', 'Sanz, María Teresa', 'Minister, Spanish Govt.']\n"
     ]
    }
   ],
   "source": [
    "# Find a word boundary, 1+ hyphens or characters, and a comma\n",
    "# 1 white space\n",
    "# 1+ hyphens and characters and explicit spaces\n",
    "# Ignore tabs and new lines.\n",
    "\n",
    "print(re.findall(r\"\"\"\n",
    "    \\b[-\\w]+,\n",
    "    \\s\n",
    "    [-\\w ]+\n",
    "    [^\\t\\n]\n",
    "    \"\"\", data, re.X))"
   ]
  },
  {
   "cell_type": "markdown",
   "metadata": {},
   "source": [
    "#### Code Challenge"
   ]
  },
  {
   "cell_type": "code",
   "execution_count": 33,
   "metadata": {},
   "outputs": [
    {
     "name": "stdout",
     "output_type": "stream",
     "text": [
      "['1', '2', '3', '4', '8', '9', '0']\n"
     ]
    }
   ],
   "source": [
    "# No need to re-import re\n",
    "\n",
    "string = '1234567890'\n",
    "\n",
    "good_numbers = re.findall(r'[^567]', string)\n",
    "\n",
    "print(good_numbers)"
   ]
  },
  {
   "cell_type": "markdown",
   "metadata": {},
   "source": [
    "### Groups"
   ]
  },
  {
   "cell_type": "markdown",
   "metadata": {},
   "source": [
    "Regular expressions give us indexed and named groups to help organize things:\n",
    "* ([abc]): creates a group that contains a set for the letters 'a', 'b', and 'c'. This could be later accessed from the Match object as .group(1)\n",
    "* (?P<name>[abc]): creates a named group that contains a set for the letters 'a', 'b', and 'c'. This could later be accessed from the Match object as .group('name').\n",
    "* .groups(): method to show all of the groups on a Match object.\n",
    "* re.MULTILINE or re.M: flag to make a pattern regard lines in your text as the beginning or end of a string.\n",
    "* ^: specifies, in a pattern, the beginning of the string.\n",
    "* $: specifies, in a pattern, the end of the string.\n",
    "\n",
    "Define groups with parentheses."
   ]
  },
  {
   "cell_type": "code",
   "execution_count": 34,
   "metadata": {},
   "outputs": [
    {
     "name": "stdout",
     "output_type": "stream",
     "text": [
      "Love, Kenneth\tkenneth@teamtreehouse.com\t(555) 555-5555\tTeacher, Treehouse\t@kennethlove\n",
      "McFarland, Dave\tdave@teamtreehouse.com\t(555) 555-5554\tTeacher, Treehouse\n",
      "Arthur, King\tking_arthur@camelot.co.uk\t\tKing, Camelot\n",
      "Österberg, Sven-Erik\tgovernor@norrbotten.co.se\t\tGovernor, Norrbotten\t@sverik\n",
      ", Tim\ttim@killerrabbit.com\t\tEnchanter, Killer Rabbit Cave\n",
      "Carson, Ryan\tryan@teamtreehouse.com\t(555) 555-5543\tCEO, Treehouse\t@ryancarson\n",
      "Doctor, The\tdoctor+companion@tardis.co.uk\t\tTime Lord, Gallifrey\n",
      "Exampleson, Example\tme@example.com\t555-555-5552\tExample, Example Co.\t@example\n",
      "Trump, Donald\tpresident.44@us.gov\t555 555-5551\tPresident, United States of America\t@potus44\n",
      "Chalkley, Andrew\tandrew@teamtreehouse.com\t(555) 555-5553\tTeacher, Treehouse\t@chalkers\n",
      "Vader, Darth\tdarth-vader@empire.gov\t(555) 555-4444\tSith Lord, Galactic Empire\t@darthvader\n",
      "Fernández de la Vega Sanz, María Teresa\tmtfvs@spain.gov\t\tFirst Deputy Prime Minister, Spanish Govt.\n"
     ]
    }
   ],
   "source": [
    "print(data)"
   ]
  },
  {
   "cell_type": "code",
   "execution_count": 35,
   "metadata": {},
   "outputs": [
    {
     "name": "stdout",
     "output_type": "stream",
     "text": [
      "[('Love, Kenneth', 'kenneth@teamtreehouse.com', '(555) 555-5555', 'Teacher, Treehouse', '@kennethlove'), ('Carson, Ryan', 'ryan@teamtreehouse.com', '(555) 555-5543', 'CEO, Treehouse', '@ryancarson'), ('Trump, Donald', 'president.44@us.gov', '555 555-5551', 'President, United States of America', '@potus44'), ('Chalkley, Andrew', 'andrew@teamtreehouse.com', '(555) 555-5553', 'Teacher, Treehouse', '@chalkers'), ('Vader, Darth', 'darth-vader@empire.gov', '(555) 555-4444', 'Sith Lord, Galactic Empire', '@darthvader')]\n"
     ]
    }
   ],
   "source": [
    "# Last and first names\n",
    "# Email addresses: hyphens, word characters, numbers, periods, plus signs\n",
    "# Phone numbers\n",
    "# Job and company\n",
    "# Twitter\n",
    "\n",
    "print(re.findall(r'''\n",
    "    ([-\\w ]+,\\s[-\\w ]+)\\t\n",
    "    ([-\\w\\d.+]+@[-\\w\\d.]+)\\t\n",
    "    (\\(?\\d{3}\\)?-?\\s?\\d{3}-\\d{4})\\t\n",
    "    ([\\w\\s]+,\\s[\\w\\s]+)\\t\n",
    "    (@[\\w\\d]+)\n",
    "    ''', data, re.X))"
   ]
  },
  {
   "cell_type": "markdown",
   "metadata": {},
   "source": [
    "Each item in the tuple is one of our groups."
   ]
  },
  {
   "cell_type": "code",
   "execution_count": 36,
   "metadata": {},
   "outputs": [
    {
     "name": "stdout",
     "output_type": "stream",
     "text": [
      "[('Love, Kenneth', 'kenneth@teamtreehouse.com', '(555) 555-5555', 'Teacher, Treehouse\\t', '@kennethlove'), ('McFarland, Dave', 'dave@teamtreehouse.com', '(555) 555-5554', 'Teacher, Treehouse', ''), ('Arthur, King', 'king_arthur@camelot.co.uk', '', 'King, Camelot', ''), ('Österberg, Sven-Erik', 'governor@norrbotten.co.se', '', 'Governor, Norrbotten\\t', '@sverik'), (', Tim', 'tim@killerrabbit.com', '', 'Enchanter, Killer Rabbit Cave', ''), ('Carson, Ryan', 'ryan@teamtreehouse.com', '(555) 555-5543', 'CEO, Treehouse\\t', '@ryancarson'), ('Doctor, The', 'doctor+companion@tardis.co.uk', '', 'Time Lord, Gallifrey', ''), ('Exampleson, Example', 'me@example.com', '555-555-5552', 'Example, Example Co.\\t', '@example'), ('Trump, Donald', 'president.44@us.gov', '555 555-5551', 'President, United States of America\\t', '@potus44'), ('Chalkley, Andrew', 'andrew@teamtreehouse.com', '(555) 555-5553', 'Teacher, Treehouse\\t', '@chalkers'), ('Vader, Darth', 'darth-vader@empire.gov', '(555) 555-4444', 'Sith Lord, Galactic Empire\\t', '@darthvader'), ('Fernández de la Vega Sanz, María Teresa', 'mtfvs@spain.gov', '', 'First Deputy Prime Minister, Spanish Govt.', '')]\n"
     ]
    }
   ],
   "source": [
    "# Mark beginning and end of string, make phone number optional, tab after job optional in case no twitter\n",
    "# Dot as possible character in company name, twitter also optional\n",
    "# Multiline: treat each line as end of string\n",
    "\n",
    "print(re.findall(r'''\n",
    "    ^([-\\w ]*,\\s[-\\w ]+)\\t\n",
    "    ([-\\w\\d.+]+@[-\\w\\d.]+)\\t\n",
    "    (\\(?\\d{3}\\)?-?\\s?\\d{3}-\\d{4})?\\t\n",
    "    ([\\w\\s]+,\\s[\\w\\s.]+)\\t?\n",
    "    (@[\\w\\d]+)?$\n",
    "    ''', data, re.X | re.M))"
   ]
  },
  {
   "cell_type": "markdown",
   "metadata": {},
   "source": [
    "Convert from tuples to dictionary."
   ]
  },
  {
   "cell_type": "code",
   "execution_count": 37,
   "metadata": {},
   "outputs": [
    {
     "name": "stdout",
     "output_type": "stream",
     "text": [
      "<re.Match object; span=(0, 86), match='Love, Kenneth\\tkenneth@teamtreehouse.com\\t(555) 5>\n"
     ]
    }
   ],
   "source": [
    "line = re.search(r'''\n",
    "    ^(?P<name>[-\\w ]*,\\s[-\\w ]+)\\t\n",
    "    (?P<email>[-\\w\\d.+]+@[-\\w\\d.]+)\\t\n",
    "    (?P<phone>\\(?\\d{3}\\)?-?\\s?\\d{3}-\\d{4})?\\t\n",
    "    (?P<job>[\\w\\s]+,\\s[\\w\\s.]+)\\t?\n",
    "    (?P<twitter>@[\\w\\d]+)?$\n",
    "    ''', data, re.X | re.M)\n",
    "print(line)"
   ]
  },
  {
   "cell_type": "code",
   "execution_count": 38,
   "metadata": {},
   "outputs": [
    {
     "name": "stdout",
     "output_type": "stream",
     "text": [
      "{'name': 'Love, Kenneth', 'email': 'kenneth@teamtreehouse.com', 'phone': '(555) 555-5555', 'job': 'Teacher, Treehouse\\t', 'twitter': '@kennethlove'}\n"
     ]
    }
   ],
   "source": [
    "print(line.groupdict())"
   ]
  },
  {
   "cell_type": "markdown",
   "metadata": {},
   "source": [
    "#### Code Challenge"
   ]
  },
  {
   "cell_type": "code",
   "execution_count": 54,
   "metadata": {},
   "outputs": [
    {
     "name": "stdout",
     "output_type": "stream",
     "text": [
      "<re.Match object; span=(0, 21), match='Perotto, Pier Giorgio'>\n"
     ]
    }
   ],
   "source": [
    "string = 'Perotto, Pier Giorgio'\n",
    "\n",
    "names = re.match(r'([\\w]+),\\s([\\w ]+)', string)\n",
    "\n",
    "print(names)"
   ]
  },
  {
   "cell_type": "markdown",
   "metadata": {},
   "source": [
    "#### Code Challenge 2"
   ]
  },
  {
   "cell_type": "code",
   "execution_count": 59,
   "metadata": {},
   "outputs": [
    {
     "name": "stdout",
     "output_type": "stream",
     "text": [
      "<re.Match object; span=(15, 64), match='kenneth+challenge@teamtreehouse.com, 555-555-5555>\n"
     ]
    }
   ],
   "source": [
    "string = '''Love, Kenneth, kenneth+challenge@teamtreehouse.com, 555-555-5555, @kennethlove\n",
    "Chalkley, Andrew, andrew@teamtreehouse.co.uk, 555-555-5556, @chalkers\n",
    "McFarland, Dave, dave.mcfarland@teamtreehouse.com, 555-555-5557, @davemcfarland\n",
    "Kesten, Joy, joy@teamtreehouse.com, 555-555-5558, @joykesten'''\n",
    "\n",
    "# contacts = re.search(r'(?P<email>[-\\w\\d.+]+@[-\\w\\d.]+)', string)\n",
    "# contacts = re.search(r'(?P<phone>\\(?\\d{3}\\)?-?\\s?\\d{3}-\\d{4})', string)\n",
    "contacts = re.search(r'(?P<email>[-\\w\\d.+]+@[-\\w\\d.]+), (?P<phone>\\(?\\d{3}\\)?-?\\s?\\d{3}-\\d{4})', string)\n",
    "\n",
    "print(contacts)"
   ]
  },
  {
   "cell_type": "code",
   "execution_count": 60,
   "metadata": {},
   "outputs": [
    {
     "name": "stdout",
     "output_type": "stream",
     "text": [
      "{'email': 'kenneth+challenge@teamtreehouse.com', 'phone': '555-555-5555'}\n"
     ]
    }
   ],
   "source": [
    "print(contacts.groupdict())"
   ]
  },
  {
   "cell_type": "code",
   "execution_count": 63,
   "metadata": {},
   "outputs": [
    {
     "name": "stdout",
     "output_type": "stream",
     "text": [
      "<re.Match object; span=(66, 78), match='@kennethlove'>\n"
     ]
    }
   ],
   "source": [
    "# twitters = re.search(r'(?P<twitter>@[\\w\\d]+)$', string, re.M)\n",
    "twitters = re.search(r'@[\\w\\d]+$', string, re.M)\n",
    "\n",
    "print(twitters)"
   ]
  },
  {
   "cell_type": "code",
   "execution_count": 64,
   "metadata": {},
   "outputs": [
    {
     "name": "stdout",
     "output_type": "stream",
     "text": [
      "{}\n"
     ]
    }
   ],
   "source": [
    "print(twitters.groupdict())"
   ]
  },
  {
   "cell_type": "markdown",
   "metadata": {},
   "source": [
    "### Compiling and Loops"
   ]
  },
  {
   "cell_type": "markdown",
   "metadata": {},
   "source": [
    "Methods to compile a pattern into an object to match against:\n",
    "* re.compile(pattern, flags): method to pre-compile and save a regular expression pattern, and any associated flags, for later use.\n",
    "* .groupdict(): method to generate a dictionary from a Match object's groups. The keys will be the group names. The values will be the results of the patterns in the group.\n",
    "* re.finditer(): method to generate an iterable from the non-overlapping matches of a regular expression. Very handy for for loops.\n",
    "* .group(): method to access the content of a group. 0 or none is the entire match. 1 through how ever many groups you have will get that group. Or use a group's name to get it if you're using named groups."
   ]
  },
  {
   "cell_type": "markdown",
   "metadata": {},
   "source": [
    "Compile a RegEx pattern to save it.  Eliminate the data stream:"
   ]
  },
  {
   "cell_type": "code",
   "execution_count": 69,
   "metadata": {},
   "outputs": [],
   "source": [
    "line2 = re.compile(r'''\n",
    "    ^(?P<name>[-\\w ]*,\\s[-\\w ]+)\\t\n",
    "    (?P<email>[-\\w\\d.+]+@[-\\w\\d.]+)\\t\n",
    "    (?P<phone>\\(?\\d{3}\\)?-?\\s?\\d{3}-\\d{4})?\\t\n",
    "    (?P<job>[\\w\\s]+,\\s[\\w\\s.]+)\\t?\n",
    "    (?P<twitter>@[\\w\\d]+)?$\n",
    "    ''', re.X | re.M)"
   ]
  },
  {
   "cell_type": "code",
   "execution_count": 71,
   "metadata": {},
   "outputs": [
    {
     "name": "stdout",
     "output_type": "stream",
     "text": [
      "{'name': 'Love, Kenneth', 'email': 'kenneth@teamtreehouse.com', 'phone': '(555) 555-5555', 'job': 'Teacher, Treehouse\\t', 'twitter': '@kennethlove'}\n"
     ]
    }
   ],
   "source": [
    "print(re.search(line2, data).groupdict())"
   ]
  },
  {
   "cell_type": "markdown",
   "metadata": {},
   "source": [
    "Better yet, eliminate re.search:"
   ]
  },
  {
   "cell_type": "code",
   "execution_count": 73,
   "metadata": {},
   "outputs": [
    {
     "name": "stdout",
     "output_type": "stream",
     "text": [
      "{'name': 'Love, Kenneth', 'email': 'kenneth@teamtreehouse.com', 'phone': '(555) 555-5555', 'job': 'Teacher, Treehouse\\t', 'twitter': '@kennethlove'}\n"
     ]
    }
   ],
   "source": [
    "print(line2.search(data).groupdict())"
   ]
  },
  {
   "cell_type": "markdown",
   "metadata": {},
   "source": [
    "Method **finditer**:\n",
    "* Gives us back an iterable of each nonoverlapping match.\n",
    "* It's like giving us back a list, but it's not exactly a list.\n",
    "* It's also like using **findall**, but instead of getting back tupples we get back a match object, like when we use re.match or re.search."
   ]
  },
  {
   "cell_type": "code",
   "execution_count": 75,
   "metadata": {},
   "outputs": [
    {
     "name": "stdout",
     "output_type": "stream",
     "text": [
      "Love, Kenneth\n",
      "McFarland, Dave\n",
      "Arthur, King\n",
      "Österberg, Sven-Erik\n",
      ", Tim\n",
      "Carson, Ryan\n",
      "Doctor, The\n",
      "Exampleson, Example\n",
      "Trump, Donald\n",
      "Chalkley, Andrew\n",
      "Vader, Darth\n",
      "Fernández de la Vega Sanz, María Teresa\n"
     ]
    }
   ],
   "source": [
    "for match in line2.finditer(data):\n",
    "    print(match.group('name'))"
   ]
  },
  {
   "cell_type": "code",
   "execution_count": 79,
   "metadata": {},
   "outputs": [],
   "source": [
    "line3 = re.compile(r'''\n",
    "    ^(?P<name>(?P<last>[-\\w ]*),\\s(?P<first>[-\\w ]+))\\t\n",
    "    (?P<email>[-\\w\\d.+]+@[-\\w\\d.]+)\\t\n",
    "    (?P<phone>\\(?\\d{3}\\)?-?\\s?\\d{3}-\\d{4})?\\t\n",
    "    (?P<job>[\\w\\s]+,\\s[\\w\\s.]+)\\t?\n",
    "    (?P<twitter>@[\\w\\d]+)?$\n",
    "    ''', re.X | re.M)"
   ]
  },
  {
   "cell_type": "code",
   "execution_count": 80,
   "metadata": {},
   "outputs": [
    {
     "name": "stdout",
     "output_type": "stream",
     "text": [
      "Kenneth Love <kenneth@teamtreehouse.com>\n",
      "Dave McFarland <dave@teamtreehouse.com>\n",
      "King Arthur <king_arthur@camelot.co.uk>\n",
      "Sven-Erik Österberg <governor@norrbotten.co.se>\n",
      "Tim  <tim@killerrabbit.com>\n",
      "Ryan Carson <ryan@teamtreehouse.com>\n",
      "The Doctor <doctor+companion@tardis.co.uk>\n",
      "Example Exampleson <me@example.com>\n",
      "Donald Trump <president.44@us.gov>\n",
      "Andrew Chalkley <andrew@teamtreehouse.com>\n",
      "Darth Vader <darth-vader@empire.gov>\n",
      "María Teresa Fernández de la Vega Sanz <mtfvs@spain.gov>\n"
     ]
    }
   ],
   "source": [
    "for match in line3.finditer(data):\n",
    "    print('{first} {last} <{email}>'.format(**match.groupdict()))"
   ]
  },
  {
   "cell_type": "markdown",
   "metadata": {},
   "source": [
    "Build dictionaries from strings through RegEx's."
   ]
  },
  {
   "cell_type": "markdown",
   "metadata": {},
   "source": [
    "#### Code Challenge"
   ]
  },
  {
   "cell_type": "code",
   "execution_count": 96,
   "metadata": {},
   "outputs": [],
   "source": [
    "string3 = '''Love, Kenneth: 20\n",
    "Chalkley, Andrew: 25\n",
    "McFarland, Dave: 10\n",
    "Kesten, Joy: 22\n",
    "Stewart Pinchback, Pinckney Benton: 18'''"
   ]
  },
  {
   "cell_type": "code",
   "execution_count": 99,
   "metadata": {},
   "outputs": [
    {
     "name": "stdout",
     "output_type": "stream",
     "text": [
      "<re.Match object; span=(0, 17), match='Love, Kenneth: 20'>\n"
     ]
    }
   ],
   "source": [
    "# players = re.search(r'''\n",
    "#     ([\\w ]+),\\s([\\w ]+):\\s([\\d]+)\n",
    "#     ''', string3, re.M | re.X)\n",
    "\n",
    "players = re.search(r'(?P<last_name>[\\w ]+),\\s(?P<first_name>[\\w ]+):\\s(?P<score>[\\d]+)', string3, re.M)\n",
    "\n",
    "# players = re.search(r'''\n",
    "#     ([\\w ]+), ([\\w ]+): ([\\d]+)\n",
    "#     ''', string3, re.M | re.X)\n",
    "print(players)"
   ]
  },
  {
   "cell_type": "code",
   "execution_count": 100,
   "metadata": {},
   "outputs": [
    {
     "name": "stdout",
     "output_type": "stream",
     "text": [
      "{'last_name': 'Love', 'first_name': 'Kenneth', 'score': '20'}\n"
     ]
    }
   ],
   "source": [
    "Player = players.groupdict()\n",
    "print(Player)"
   ]
  },
  {
   "cell_type": "code",
   "execution_count": 101,
   "metadata": {},
   "outputs": [],
   "source": [
    "class Player2:\n",
    "    def __init__(self, last_name, first_name, score):\n",
    "        self.last_name = last_name\n",
    "        self.first_name = first_name\n",
    "        self.score = score"
   ]
  },
  {
   "cell_type": "markdown",
   "metadata": {},
   "source": [
    "#### Quiz"
   ]
  },
  {
   "cell_type": "markdown",
   "metadata": {},
   "source": [
    "* Start a set with **^** to indicate not to match any characters.\n",
    "* Reasons to compile a pattern:\n",
    "    1. Use it multiple times.\n",
    "    2. Pass it to functions.\n",
    "    3. Use it directly.\n",
    "    4. Provide multiple patterns as part of a library.\n",
    "* re.MULTILINE: Newlines are treated as individual strings.\n",
    "* Match 5 or more occurrences of a pattern: {5,}\n",
    "* Flag to write patterns over multiple lines, ignoring whitespaces and comments: re.VERBOSE (re.X)\n",
    "* Iterable full of match objects: .finditer()\n",
    "* Match number in string with escape character: \\d"
   ]
  },
  {
   "cell_type": "code",
   "execution_count": null,
   "metadata": {},
   "outputs": [],
   "source": []
  }
 ],
 "metadata": {
  "kernelspec": {
   "display_name": "Python 3",
   "language": "python",
   "name": "python3"
  },
  "language_info": {
   "codemirror_mode": {
    "name": "ipython",
    "version": 3
   },
   "file_extension": ".py",
   "mimetype": "text/x-python",
   "name": "python",
   "nbconvert_exporter": "python",
   "pygments_lexer": "ipython3",
   "version": "3.7.3"
  }
 },
 "nbformat": 4,
 "nbformat_minor": 2
}
