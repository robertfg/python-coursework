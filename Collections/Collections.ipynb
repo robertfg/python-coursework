{
 "cells": [
  {
   "cell_type": "markdown",
   "metadata": {},
   "source": [
    "# Python Collections"
   ]
  },
  {
   "cell_type": "markdown",
   "metadata": {},
   "source": [
    "## Lists"
   ]
  },
  {
   "cell_type": "markdown",
   "metadata": {},
   "source": [
    "### Review"
   ]
  },
  {
   "cell_type": "markdown",
   "metadata": {},
   "source": [
    "Types of collections (iterable):\n",
    "* Lists: mutable\n",
    "* Strings: immutable"
   ]
  },
  {
   "cell_type": "code",
   "execution_count": 36,
   "metadata": {},
   "outputs": [
    {
     "name": "stdout",
     "output_type": "stream",
     "text": [
      "['Robert', 'Glover']\n",
      "Robert, Glover\n",
      "[1, 2, 3, 'Colleen', 'Lana', ['Robert', 'Glover']]\n"
     ]
    }
   ],
   "source": [
    "my_list = []\n",
    "my_list.append(1)\n",
    "my_list.append(2)\n",
    "my_list.append(3)\n",
    "my_list.append(\"Colleen\")\n",
    "my_list.append(\"Lana\")\n",
    "\n",
    "new_list = [\"Robert\", \"Glover\"]\n",
    "this_list = \", \".join(new_list)\n",
    "print(new_list)\n",
    "print(this_list)\n",
    "\n",
    "# my_list.append(new_list)\n",
    "my_list.append([\"Robert\", \"Glover\"])\n",
    "print(my_list)"
   ]
  },
  {
   "cell_type": "code",
   "execution_count": 37,
   "metadata": {},
   "outputs": [
    {
     "data": {
      "text/plain": [
       "[0,\n",
       " 1,\n",
       " 2,\n",
       " 'First String',\n",
       " 'Second String',\n",
       " ['First item of the last member', 'Second item of the last member']]"
      ]
     },
     "execution_count": 37,
     "metadata": {},
     "output_type": "execute_result"
    }
   ],
   "source": [
    "test_list = [0, 1, 2, \"First String\", \"Second String\", [\"First item of the last member\", \"Second item of the last member\"]]\n",
    "test_list"
   ]
  },
  {
   "cell_type": "markdown",
   "metadata": {},
   "source": [
    "### Growing Lists"
   ]
  },
  {
   "cell_type": "markdown",
   "metadata": {},
   "source": [
    "Review methods to manipulate lists:"
   ]
  },
  {
   "cell_type": "code",
   "execution_count": 38,
   "metadata": {},
   "outputs": [
    {
     "data": {
      "text/plain": [
       "['raindrops', 'mittens', 'kettles']"
      ]
     },
     "execution_count": 38,
     "metadata": {},
     "output_type": "execute_result"
    }
   ],
   "source": [
    "favorite_things = [\"raindrops\", \"mittens\", \"kettles\"]\n",
    "favorite_things"
   ]
  },
  {
   "cell_type": "code",
   "execution_count": 39,
   "metadata": {},
   "outputs": [
    {
     "data": {
      "text/plain": [
       "['raindrops', 'mittens', 'kettles', 'kittens']"
      ]
     },
     "execution_count": 39,
     "metadata": {},
     "output_type": "execute_result"
    }
   ],
   "source": [
    "favorite_things + ['kittens']"
   ]
  },
  {
   "cell_type": "code",
   "execution_count": 40,
   "metadata": {},
   "outputs": [
    {
     "data": {
      "text/plain": [
       "['raindrops', 'mittens', 'kettles']"
      ]
     },
     "execution_count": 40,
     "metadata": {},
     "output_type": "execute_result"
    }
   ],
   "source": [
    "favorite_things"
   ]
  },
  {
   "cell_type": "code",
   "execution_count": 41,
   "metadata": {},
   "outputs": [
    {
     "data": {
      "text/plain": [
       "['raindrops', 'mittens', 'kettles', 'kittens']"
      ]
     },
     "execution_count": 41,
     "metadata": {},
     "output_type": "execute_result"
    }
   ],
   "source": [
    "favorite_things += ['kittens']\n",
    "favorite_things"
   ]
  },
  {
   "cell_type": "code",
   "execution_count": 42,
   "metadata": {},
   "outputs": [
    {
     "data": {
      "text/plain": [
       "['raindrops', 'mittens', 'kettles', 'kittens', ['packages']]"
      ]
     },
     "execution_count": 42,
     "metadata": {},
     "output_type": "execute_result"
    }
   ],
   "source": [
    "favorite_things.append(['packages'])\n",
    "favorite_things"
   ]
  },
  {
   "cell_type": "code",
   "execution_count": 43,
   "metadata": {},
   "outputs": [
    {
     "data": {
      "text/plain": [
       "['raindrops', 'mittens', 'kettles', 'kittens']"
      ]
     },
     "execution_count": 43,
     "metadata": {},
     "output_type": "execute_result"
    }
   ],
   "source": [
    "del favorite_things[-1]\n",
    "favorite_things"
   ]
  },
  {
   "cell_type": "code",
   "execution_count": 44,
   "metadata": {},
   "outputs": [
    {
     "data": {
      "text/plain": [
       "['raindrops', 'mittens', 'kettles', 'kittens', 'ponies', 'streudel']"
      ]
     },
     "execution_count": 44,
     "metadata": {},
     "output_type": "execute_result"
    }
   ],
   "source": [
    "favorite_things.extend(['ponies', 'streudel'])\n",
    "favorite_things"
   ]
  },
  {
   "cell_type": "code",
   "execution_count": 45,
   "metadata": {},
   "outputs": [
    {
     "data": {
      "text/plain": [
       "[1, 2, 3, 'a', 'b', 'c']"
      ]
     },
     "execution_count": 45,
     "metadata": {},
     "output_type": "execute_result"
    }
   ],
   "source": [
    "a = [1, 2, 3]\n",
    "a.extend(\"abc\")\n",
    "a"
   ]
  },
  {
   "cell_type": "code",
   "execution_count": 46,
   "metadata": {},
   "outputs": [
    {
     "data": {
      "text/plain": [
       "['raindrops', 'kettles', 'kittens', 'ponies', 'streudel']"
      ]
     },
     "execution_count": 46,
     "metadata": {},
     "output_type": "execute_result"
    }
   ],
   "source": [
    "del favorite_things[1]\n",
    "favorite_things"
   ]
  },
  {
   "cell_type": "code",
   "execution_count": 47,
   "metadata": {},
   "outputs": [
    {
     "data": {
      "text/plain": [
       "['raindrops', 'mittens', 'kettles', 'kittens', 'ponies', 'streudel']"
      ]
     },
     "execution_count": 47,
     "metadata": {},
     "output_type": "execute_result"
    }
   ],
   "source": [
    "favorite_things.insert(1, 'mittens')\n",
    "favorite_things"
   ]
  },
  {
   "cell_type": "markdown",
   "metadata": {},
   "source": [
    "#### Code Challenge"
   ]
  },
  {
   "cell_type": "code",
   "execution_count": 48,
   "metadata": {},
   "outputs": [
    {
     "data": {
      "text/plain": [
       "['start',\n",
       " 'As I Lay Dying',\n",
       " 'Love in the Time of Cholera',\n",
       " 'Pride and Prejudice',\n",
       " 'Don Quixote',\n",
       " 'Hamlet']"
      ]
     },
     "execution_count": 48,
     "metadata": {},
     "output_type": "execute_result"
    }
   ],
   "source": [
    "best = [\"As I Lay Dying\", \"Love in the Time of Cholera\", \"Pride and Prejudice\"]\n",
    "best.extend([\"Don Quixote\", \"Hamlet\"])\n",
    "best.insert(0, \"start\")\n",
    "best"
   ]
  },
  {
   "cell_type": "markdown",
   "metadata": {},
   "source": [
    "### Removing Items from a List"
   ]
  },
  {
   "cell_type": "code",
   "execution_count": 49,
   "metadata": {},
   "outputs": [
    {
     "data": {
      "text/plain": [
       "['a', 'b', 'z', 'c', 'd']"
      ]
     },
     "execution_count": 49,
     "metadata": {},
     "output_type": "execute_result"
    }
   ],
   "source": [
    "alpha_list = [\"a\", \"b\", \"z\", \"c\", \"d\"]\n",
    "alpha_list"
   ]
  },
  {
   "cell_type": "code",
   "execution_count": 50,
   "metadata": {},
   "outputs": [
    {
     "data": {
      "text/plain": [
       "['a', 'b', 'c', 'd']"
      ]
     },
     "execution_count": 50,
     "metadata": {},
     "output_type": "execute_result"
    }
   ],
   "source": [
    "del alpha_list[2]\n",
    "alpha_list"
   ]
  },
  {
   "cell_type": "code",
   "execution_count": 51,
   "metadata": {},
   "outputs": [],
   "source": [
    "my_list = [1, 2, 3, 1]"
   ]
  },
  {
   "cell_type": "markdown",
   "metadata": {},
   "source": [
    "Remove(): remove 1st instance of an item:"
   ]
  },
  {
   "cell_type": "code",
   "execution_count": 52,
   "metadata": {
    "scrolled": true
   },
   "outputs": [
    {
     "data": {
      "text/plain": [
       "[2, 3, 1]"
      ]
     },
     "execution_count": 52,
     "metadata": {},
     "output_type": "execute_result"
    }
   ],
   "source": [
    "my_list.remove(1)\n",
    "my_list"
   ]
  },
  {
   "cell_type": "code",
   "execution_count": 53,
   "metadata": {},
   "outputs": [
    {
     "data": {
      "text/plain": [
       "[2, 3]"
      ]
     },
     "execution_count": 53,
     "metadata": {},
     "output_type": "execute_result"
    }
   ],
   "source": [
    "my_list.remove(1)\n",
    "my_list"
   ]
  },
  {
   "cell_type": "markdown",
   "metadata": {},
   "source": [
    "ValueError:"
   ]
  },
  {
   "cell_type": "code",
   "execution_count": 54,
   "metadata": {},
   "outputs": [],
   "source": [
    "# my_list.remove(1)"
   ]
  },
  {
   "cell_type": "markdown",
   "metadata": {},
   "source": [
    "#### Quiz\n",
    "* The **list()** function creates a new list and turns an iterable into a list.\n",
    "* the **extend()** method adds the contents of one list to another. "
   ]
  },
  {
   "cell_type": "markdown",
   "metadata": {},
   "source": [
    "#### Code Challenge"
   ]
  },
  {
   "cell_type": "code",
   "execution_count": 55,
   "metadata": {},
   "outputs": [
    {
     "name": "stdout",
     "output_type": "stream",
     "text": [
      "['L', 'E', 'I']\n",
      "a\n",
      "e\n",
      "i\n",
      "o\n",
      "u\n",
      "A\n",
      "E\n",
      "E\n",
      "I\n",
      "I\n",
      "O\n",
      "U\n",
      "L\n"
     ]
    }
   ],
   "source": [
    "def disemvowel(word):\n",
    "    \n",
    "    word_list = list(word)\n",
    "    vowels = ['a', 'e', 'i', 'o', 'u', 'A', 'E', 'I', 'O', 'U']\n",
    "\n",
    "    print(word_list)\n",
    "    for vowel in vowels:\n",
    "        while vowel:\n",
    "            print(vowel)\n",
    "            try:\n",
    "                word_list.remove(vowel)\n",
    "            except ValueError:\n",
    "                break\n",
    "\n",
    "    word = \"\".join(word_list)\n",
    "    return word\n",
    "\n",
    "new_word = disemvowel(\"LEI\")\n",
    "\n",
    "print(new_word)"
   ]
  },
  {
   "cell_type": "markdown",
   "metadata": {},
   "source": [
    "### Pop"
   ]
  },
  {
   "cell_type": "code",
   "execution_count": 56,
   "metadata": {},
   "outputs": [],
   "source": [
    "names = [\"Ken\", \"Bob\", \"Lisa\", \"Tammy\"]"
   ]
  },
  {
   "cell_type": "code",
   "execution_count": 57,
   "metadata": {},
   "outputs": [
    {
     "data": {
      "text/plain": [
       "'Tammy'"
      ]
     },
     "execution_count": 57,
     "metadata": {},
     "output_type": "execute_result"
    }
   ],
   "source": [
    "names_1 = names.pop()\n",
    "names_1"
   ]
  },
  {
   "cell_type": "code",
   "execution_count": 58,
   "metadata": {},
   "outputs": [
    {
     "data": {
      "text/plain": [
       "['Ken', 'Bob', 'Lisa']"
      ]
     },
     "execution_count": 58,
     "metadata": {},
     "output_type": "execute_result"
    }
   ],
   "source": [
    "names"
   ]
  },
  {
   "cell_type": "code",
   "execution_count": 59,
   "metadata": {},
   "outputs": [
    {
     "data": {
      "text/plain": [
       "'Ken'"
      ]
     },
     "execution_count": 59,
     "metadata": {},
     "output_type": "execute_result"
    }
   ],
   "source": [
    "names_2 = names.pop(0)\n",
    "names_2"
   ]
  },
  {
   "cell_type": "code",
   "execution_count": 60,
   "metadata": {},
   "outputs": [
    {
     "data": {
      "text/plain": [
       "['Bob', 'Lisa']"
      ]
     },
     "execution_count": 60,
     "metadata": {},
     "output_type": "execute_result"
    }
   ],
   "source": [
    "names"
   ]
  },
  {
   "cell_type": "markdown",
   "metadata": {},
   "source": [
    "Vending machine:"
   ]
  },
  {
   "cell_type": "code",
   "execution_count": 61,
   "metadata": {},
   "outputs": [],
   "source": [
    "sodas = [\"Coke\", \"Pepsi\", \"Sprite\"]\n",
    "chips = [\"Doritos\", \"Fritos\"]\n",
    "candy = [\"Snickers\", \"M&Ms\", \"Milky Way\"]\n",
    "\n",
    "# while True:\n",
    "#     choice = input(\"Would you like a soda, chips, or candy?  \").lower()\n",
    "    \n",
    "#     try:\n",
    "#         if choice == 'soda':\n",
    "#             snack = sodas.pop()\n",
    "#         elif choice == 'chips':\n",
    "#             snack = chips.pop()\n",
    "#         elif choice == 'candy':\n",
    "#             snack = candy.pop()\n",
    "#         else:\n",
    "#             print(\"Sorry, I didn't understand your response.\")\n",
    "#             continue\n",
    "#     except IndexError:\n",
    "#         print(\"Sorry, we're all out of {}.\".format(choice))\n",
    "#     else:\n",
    "#         print(\"Here's your {}: {}.\".format(choice, snack))"
   ]
  },
  {
   "cell_type": "markdown",
   "metadata": {},
   "source": [
    "#### Code Challenge"
   ]
  },
  {
   "cell_type": "code",
   "execution_count": 62,
   "metadata": {},
   "outputs": [
    {
     "name": "stdout",
     "output_type": "stream",
     "text": [
      "[1, 2, 3]\n"
     ]
    }
   ],
   "source": [
    "messy_list = [\"a\", 2, 3, 1, False, [1, 2, 3]]\n",
    "\n",
    "# Your code goes below here\n",
    "messy_list.insert(0, messy_list.pop(3))\n",
    "messy_list.remove('a')\n",
    "messy_list.remove(False)\n",
    "\n",
    "del messy_list[3]\n",
    "\n",
    "print(messy_list)"
   ]
  },
  {
   "cell_type": "markdown",
   "metadata": {},
   "source": [
    "### Shopping List Take 3"
   ]
  },
  {
   "cell_type": "markdown",
   "metadata": {},
   "source": [
    "Taken from Lists notebook:"
   ]
  },
  {
   "cell_type": "markdown",
   "metadata": {},
   "source": [
    "The os library allows you to look at information about operating system and run system-level scripts."
   ]
  },
  {
   "cell_type": "code",
   "execution_count": 63,
   "metadata": {},
   "outputs": [],
   "source": [
    "import os"
   ]
  },
  {
   "cell_type": "code",
   "execution_count": 64,
   "metadata": {},
   "outputs": [],
   "source": [
    "shopping_list = []"
   ]
  },
  {
   "cell_type": "code",
   "execution_count": 65,
   "metadata": {},
   "outputs": [],
   "source": [
    "def clear_screen():\n",
    "    os.system(\"cls\" if os.name == \"nt\" else \"clear\")"
   ]
  },
  {
   "cell_type": "code",
   "execution_count": 66,
   "metadata": {},
   "outputs": [],
   "source": [
    "def show_help():\n",
    "    clear_screen()\n",
    "    print()\n",
    "    print(\"What should we pick up at the store?\")\n",
    "    print(\"\"\"\n",
    "Enter 'DONE' to stop adding items.\n",
    "Enter 'SHOW' to see the list of items.\n",
    "Enter 'HELP' for this help.\n",
    "Enter 'REMOVE' to remove an item from the list.\n",
    "\"\"\")"
   ]
  },
  {
   "cell_type": "markdown",
   "metadata": {},
   "source": [
    "abs(<number>): absolute value of a number"
   ]
  },
  {
   "cell_type": "code",
   "execution_count": 67,
   "metadata": {},
   "outputs": [],
   "source": [
    "def show_list():\n",
    "    clear_screen()\n",
    "    print(\"Shopping list:\")\n",
    "    index = 1\n",
    "    for item in shopping_list:\n",
    "        print(\"{}. {}\".format(index, item))\n",
    "        index += 1\n",
    "    print(\"-\"*10)"
   ]
  },
  {
   "cell_type": "code",
   "execution_count": 68,
   "metadata": {},
   "outputs": [],
   "source": [
    "def remove_item():\n",
    "    show_list()\n",
    "    item_to_remove = input(\"What would you like to remove?  \")\n",
    "    \n",
    "    try:\n",
    "        shopping_list.remove(item_to_remove)\n",
    "    except ValueError:\n",
    "        pass\n",
    "    \n",
    "    show_list()"
   ]
  },
  {
   "cell_type": "code",
   "execution_count": 69,
   "metadata": {},
   "outputs": [],
   "source": [
    "def add_to_list(item):\n",
    "    show_list()\n",
    "    \n",
    "    if shopping_list:\n",
    "        position = input(\"Where should I add {}?\\n\"\n",
    "                         \"Press ENTER to add to the end of the list.\\n\"\n",
    "                         \">.\".format(item))\n",
    "    else:\n",
    "        position = 0\n",
    "        \n",
    "    try:\n",
    "        position = abs(int(position))\n",
    "    except ValueError:\n",
    "        position = None\n",
    "    \n",
    "    if position is not None:\n",
    "        shopping_list.insert(position-1, item)\n",
    "    else:\n",
    "        shopping_list.append(item)\n",
    "            \n",
    "#     shopping_list.append(item)\n",
    "#     print(\"Added!  List has {} items.\".format(len(shopping_list)))\n",
    "\n",
    "    show_list()"
   ]
  },
  {
   "cell_type": "code",
   "execution_count": 70,
   "metadata": {},
   "outputs": [],
   "source": [
    "# show_help()\n",
    "\n",
    "# while True:\n",
    "#     new_item = input(\"> \")\n",
    "#     if new_item.upper() == \"DONE\" or new_item.upper() == \"QUIT\":\n",
    "#         break\n",
    "#     elif new_item.upper() == 'HELP':\n",
    "#         show_help()\n",
    "#         continue\n",
    "#     elif new_item.upper() == 'SHOW':\n",
    "#         show_list()\n",
    "#         continue\n",
    "#     elif new_item.upper() == 'REMOVE':\n",
    "#         remove_item()\n",
    "#         continue\n",
    "#     else:\n",
    "#         add_to_list(new_item)\n",
    "    \n",
    "# show_list()"
   ]
  },
  {
   "cell_type": "code",
   "execution_count": null,
   "metadata": {},
   "outputs": [],
   "source": []
  }
 ],
 "metadata": {
  "kernelspec": {
   "display_name": "Python 3",
   "language": "python",
   "name": "python3"
  },
  "language_info": {
   "codemirror_mode": {
    "name": "ipython",
    "version": 3
   },
   "file_extension": ".py",
   "mimetype": "text/x-python",
   "name": "python",
   "nbconvert_exporter": "python",
   "pygments_lexer": "ipython3",
   "version": "3.7.3"
  }
 },
 "nbformat": 4,
 "nbformat_minor": 2
}
