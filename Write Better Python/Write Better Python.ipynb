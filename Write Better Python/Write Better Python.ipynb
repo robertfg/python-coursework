{
 "cells": [
  {
   "cell_type": "markdown",
   "metadata": {},
   "source": [
    "# Write Better Python"
   ]
  },
  {
   "cell_type": "markdown",
   "metadata": {},
   "source": [
    "## Cleaner Code"
   ]
  },
  {
   "cell_type": "markdown",
   "metadata": {},
   "source": [
    "### Overview"
   ]
  },
  {
   "cell_type": "markdown",
   "metadata": {},
   "source": [
    "Contents:\n",
    "* Conventions\n",
    "* Docstrings: let functions and classes provide their own help text\n",
    "* Logging\n",
    "* Debugging in PDB"
   ]
  },
  {
   "cell_type": "markdown",
   "metadata": {},
   "source": [
    "### PEP 8"
   ]
  },
  {
   "cell_type": "markdown",
   "metadata": {},
   "source": [
    "PEP: Python Enhancement Proposal\n",
    "* PEP 8: Style Guide\n",
    "* PEP 20: Zen of Python"
   ]
  },
  {
   "cell_type": "markdown",
   "metadata": {},
   "source": [
    "Best practices:\n",
    "* 2 lines between top level functions\n",
    "* Blank line between methods in classes\n",
    "* 4 character indentation\n",
    "* Space between parameter and return arguments\n",
    "* Space between operators\n",
    "* Snake case, not camel case\n",
    "* Classes need to be capitalized\n",
    "* Imports at top, always on separate lines\n",
    "* No spaces at beginning and end of parentheses, but space between arguments in parentheses\n",
    "* Don't align equal signs. (I do this.)\n",
    "* No single letter variables\n",
    "* No trailing white spaces\n",
    "* 2 spaces before inline comments"
   ]
  },
  {
   "cell_type": "markdown",
   "metadata": {},
   "source": [
    "Debugger: flake8\n",
    "\n",
    "Install:\n",
    "\n",
    "    conda install flake8\n",
    "    \n",
    "Run:\n",
    "\n",
    "    flake8 filename.py"
   ]
  },
  {
   "cell_type": "markdown",
   "metadata": {},
   "source": [
    "#### Code Challenge"
   ]
  },
  {
   "cell_type": "code",
   "execution_count": 2,
   "metadata": {},
   "outputs": [],
   "source": [
    "def small_function():\n",
    "    return True\n",
    "\n",
    "\n",
    "def bigger_function():\n",
    "    a = 2\n",
    "    b = 4\n",
    "    return a, b"
   ]
  },
  {
   "cell_type": "markdown",
   "metadata": {},
   "source": [
    "#### Code Challenge"
   ]
  },
  {
   "cell_type": "code",
   "execution_count": 4,
   "metadata": {},
   "outputs": [],
   "source": [
    "def first_function(arg1):\n",
    "    return 'arg1 is {}'.format(arg1)\n",
    "\n",
    "\n",
    "def second_function(arg1):\n",
    "    return 'arg1 is {}'.format(arg1)\n",
    "\n",
    "\n",
    "class MyClass:\n",
    "    args = [1, 2, 3]\n",
    "    \n",
    "    def class_func(self):\n",
    "        return self.args"
   ]
  },
  {
   "cell_type": "markdown",
   "metadata": {},
   "source": [
    "#### Code Challenge"
   ]
  },
  {
   "cell_type": "code",
   "execution_count": 5,
   "metadata": {},
   "outputs": [],
   "source": [
    "numbers = [1, 2, 3, 4, 5]\n",
    "\n",
    "\n",
    "def add(num1, num2):\n",
    "    return num1 + num2\n",
    "\n",
    "\n",
    "def subtract(num1, num2):\n",
    "    return num1 - num2\n",
    "\n",
    "\n",
    "def mathy(num1, num2):\n",
    "    up = add(5 + 7, 7 + 9)\n",
    "    down = subtract(6, 3)\n",
    "    return add(up, down)"
   ]
  },
  {
   "cell_type": "markdown",
   "metadata": {},
   "source": [
    "#### Code Challenge"
   ]
  },
  {
   "cell_type": "code",
   "execution_count": 6,
   "metadata": {},
   "outputs": [],
   "source": [
    "import os\n",
    "import sys\n",
    "import logging\n",
    "from re import match\n",
    "from re import search"
   ]
  },
  {
   "cell_type": "markdown",
   "metadata": {},
   "source": [
    "### Zen of Python"
   ]
  },
  {
   "cell_type": "markdown",
   "metadata": {},
   "source": [
    "Highlights:\n",
    "* Clean code doesn't need so many explanatory comments.\n",
    "* Explicit is better than implicit.\n",
    "* Use similar approaches to similar problems."
   ]
  },
  {
   "cell_type": "markdown",
   "metadata": {},
   "source": [
    "To see the rules, enter the Python shell and type:\n",
    "\n",
    "    import this"
   ]
  },
  {
   "cell_type": "markdown",
   "metadata": {},
   "source": [
    "#### Quiz"
   ]
  },
  {
   "cell_type": "markdown",
   "metadata": {},
   "source": [
    "* Implementation easy to explain are a good idea.\n",
    "* Errors should never pass silently unless explicitly silenced.\n",
    "* Simple is better than complex.\n",
    "* Implementationa hard to explain are a bad idea."
   ]
  },
  {
   "cell_type": "markdown",
   "metadata": {},
   "source": [
    "### Docstrings"
   ]
  },
  {
   "cell_type": "markdown",
   "metadata": {},
   "source": [
    "Docstring: A docstring is a string at the beginning of a class, method, or function that documents what that little bit of class or function is for."
   ]
  },
  {
   "cell_type": "markdown",
   "metadata": {},
   "source": [
    "Format: \"\"\"docstring\"\"\""
   ]
  },
  {
   "cell_type": "code",
   "execution_count": 16,
   "metadata": {},
   "outputs": [],
   "source": [
    "import docstrings"
   ]
  },
  {
   "cell_type": "code",
   "execution_count": 26,
   "metadata": {},
   "outputs": [],
   "source": [
    "def does_something(arg):\n",
    "    \"\"\"Takes one agurment and does something based on type.\n",
    "    If arg is a string, returns arg + 3.\n",
    "    If arg is an int or a float, returns arg + 10\n",
    "    \"\"\"\n",
    "    if isinstance(arg, (int, float)):\n",
    "        return arg + 10\n",
    "    elif isinstance(arg, str):\n",
    "        return str * 3\n",
    "    else:\n",
    "        raise TypeError(\"does_something only takes ints, floats, and strings\")"
   ]
  },
  {
   "cell_type": "code",
   "execution_count": 28,
   "metadata": {},
   "outputs": [
    {
     "name": "stdout",
     "output_type": "stream",
     "text": [
      "Help on function does_something in module __main__:\n",
      "\n",
      "does_something(arg)\n",
      "    Takes one agurment and does something based on type.\n",
      "    If arg is a string, returns arg + 3.\n",
      "    If arg is an int or a float, returns arg + 10\n",
      "\n"
     ]
    }
   ],
   "source": [
    "help(does_something)"
   ]
  },
  {
   "cell_type": "markdown",
   "metadata": {},
   "source": [
    "In Python Interpreter:\n",
    "\n",
    "    import docstrings\n",
    "    \n",
    "Run:\n",
    "\n",
    "    help(docstrings.does_something)"
   ]
  },
  {
   "cell_type": "markdown",
   "metadata": {},
   "source": [
    "#### Code Challenge"
   ]
  },
  {
   "cell_type": "code",
   "execution_count": 30,
   "metadata": {},
   "outputs": [],
   "source": [
    "class Treehouse:\n",
    "    \"\"\"Methods related to Treehouse and students.\"\"\"\n",
    "    def student(self, name):\n",
    "        \"\"\"Gives a pleasant message about the student.\"\"\"\n",
    "        return '{} is a great Treehouse student!'.format(name)"
   ]
  },
  {
   "cell_type": "markdown",
   "metadata": {},
   "source": [
    "## Buggy Logs"
   ]
  },
  {
   "cell_type": "markdown",
   "metadata": {},
   "source": [
    "### Logging"
   ]
  },
  {
   "cell_type": "markdown",
   "metadata": {},
   "source": [
    "Error levels:\n",
    "* CRITICAL: things go horribly wrong\n",
    "* ERROR: things go wrong\n",
    "* WARNING: track questionable things that happen, e.g., exceptions\n",
    "* INFO: about running of application; good thing to monitor\n",
    "* DEBUG: about running of application; everything\n",
    "* NOTSET: rarely, if ever, used"
   ]
  },
  {
   "cell_type": "markdown",
   "metadata": {},
   "source": [
    "Write to a file:\n",
    "\n",
    "    logging.basicConfig(filename='game.log', level=logging.DEBUG)\n",
    "    logging.info(\"You won't see this.\")\n",
    "    logging.warning(\"Oh no!\")"
   ]
  },
  {
   "cell_type": "markdown",
   "metadata": {},
   "source": [
    "#### Code Challenge"
   ]
  },
  {
   "cell_type": "code",
   "execution_count": 1,
   "metadata": {},
   "outputs": [],
   "source": [
    "import logging\n",
    "\n",
    "logging.basicConfig(filename='cc.log', level=logging.DEBUG)\n",
    "\n",
    "# Write your code below here\n",
    "logging.debug(\"I'm concerned about my health.\")\n",
    "logging.warning(\"The French have the Grail\")"
   ]
  },
  {
   "cell_type": "markdown",
   "metadata": {},
   "source": [
    "### The Python Debugger"
   ]
  },
  {
   "cell_type": "markdown",
   "metadata": {},
   "source": [
    "PDB: Python Debugger"
   ]
  },
  {
   "cell_type": "markdown",
   "metadata": {},
   "source": [
    "Format:\n",
    "\n",
    "    import pdb\n",
    "    pdb.set_trace()\n",
    "\n",
    "Common:\n",
    "\n",
    "    import pdb; pdb.set_trace()"
   ]
  },
  {
   "cell_type": "markdown",
   "metadata": {},
   "source": [
    "Commands:\n",
    "\n",
    "* next (n): run next line\n",
    "* continue (c): continue to end of program\n",
    "* quit (q)"
   ]
  },
  {
   "cell_type": "markdown",
   "metadata": {},
   "source": [
    "#### Code Challenge"
   ]
  },
  {
   "cell_type": "code",
   "execution_count": 2,
   "metadata": {},
   "outputs": [],
   "source": [
    "import pdb\n",
    "\n",
    "def something_silly(arg1, arg2):\n",
    "    if len(arg1) > len(arg2):\n",
    "        # Import and use PDB here\n",
    "        pdb.set_trace()\n",
    "        \n",
    "        arg1[0] = arg2[0]\n",
    "    return arg1, arg2"
   ]
  },
  {
   "cell_type": "code",
   "execution_count": null,
   "metadata": {},
   "outputs": [],
   "source": []
  }
 ],
 "metadata": {
  "kernelspec": {
   "display_name": "Python 3",
   "language": "python",
   "name": "python3"
  },
  "language_info": {
   "codemirror_mode": {
    "name": "ipython",
    "version": 3
   },
   "file_extension": ".py",
   "mimetype": "text/x-python",
   "name": "python",
   "nbconvert_exporter": "python",
   "pygments_lexer": "ipython3",
   "version": "3.7.3"
  }
 },
 "nbformat": 4,
 "nbformat_minor": 2
}
